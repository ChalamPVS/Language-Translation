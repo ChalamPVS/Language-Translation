{
 "cells": [
  {
   "cell_type": "markdown",
   "metadata": {
    "collapsed": true,
    "deletable": true,
    "editable": true
   },
   "source": [
    "# Language Translation\n",
    "In this project, you’re going to take a peek into the realm of neural network machine translation.  You’ll be training a sequence to sequence model on a dataset of English and French sentences that can translate new sentences from English to French.\n",
    "## Get the Data\n",
    "Since translating the whole language of English to French will take lots of time to train, we have provided you with a small portion of the English corpus."
   ]
  },
  {
   "cell_type": "code",
   "execution_count": 1,
   "metadata": {
    "collapsed": false,
    "deletable": true,
    "editable": true
   },
   "outputs": [],
   "source": [
    "\"\"\"\n",
    "DON'T MODIFY ANYTHING IN THIS CELL\n",
    "\"\"\"\n",
    "import helper\n",
    "import problem_unittests as tests\n",
    "\n",
    "source_path = 'data/small_vocab_en'\n",
    "target_path = 'data/small_vocab_fr'\n",
    "source_text = helper.load_data(source_path)\n",
    "target_text = helper.load_data(target_path)"
   ]
  },
  {
   "cell_type": "markdown",
   "metadata": {
    "deletable": true,
    "editable": true
   },
   "source": [
    "## Explore the Data\n",
    "Play around with view_sentence_range to view different parts of the data."
   ]
  },
  {
   "cell_type": "code",
   "execution_count": 2,
   "metadata": {
    "collapsed": false,
    "deletable": true,
    "editable": true
   },
   "outputs": [
    {
     "name": "stdout",
     "output_type": "stream",
     "text": [
      "Dataset Stats\n",
      "Roughly the number of unique words: 227\n",
      "Number of sentences: 137861\n",
      "Average number of words in a sentence: 13.225277634719028\n",
      "\n",
      "English sentences 0 to 10:\n",
      "new jersey is sometimes quiet during autumn , and it is snowy in april .\n",
      "the united states is usually chilly during july , and it is usually freezing in november .\n",
      "california is usually quiet during march , and it is usually hot in june .\n",
      "the united states is sometimes mild during june , and it is cold in september .\n",
      "your least liked fruit is the grape , but my least liked is the apple .\n",
      "his favorite fruit is the orange , but my favorite is the grape .\n",
      "paris is relaxing during december , but it is usually chilly in july .\n",
      "new jersey is busy during spring , and it is never hot in march .\n",
      "our least liked fruit is the lemon , but my least liked is the grape .\n",
      "the united states is sometimes busy during january , and it is sometimes warm in november .\n",
      "\n",
      "French sentences 0 to 10:\n",
      "new jersey est parfois calme pendant l' automne , et il est neigeux en avril .\n",
      "les états-unis est généralement froid en juillet , et il gèle habituellement en novembre .\n",
      "california est généralement calme en mars , et il est généralement chaud en juin .\n",
      "les états-unis est parfois légère en juin , et il fait froid en septembre .\n",
      "votre moins aimé fruit est le raisin , mais mon moins aimé est la pomme .\n",
      "son fruit préféré est l'orange , mais mon préféré est le raisin .\n",
      "paris est relaxant en décembre , mais il est généralement froid en juillet .\n",
      "new jersey est occupé au printemps , et il est jamais chaude en mars .\n",
      "notre fruit est moins aimé le citron , mais mon moins aimé est le raisin .\n",
      "les états-unis est parfois occupé en janvier , et il est parfois chaud en novembre .\n"
     ]
    }
   ],
   "source": [
    "view_sentence_range = (0, 10)\n",
    "\n",
    "\"\"\"\n",
    "DON'T MODIFY ANYTHING IN THIS CELL\n",
    "\"\"\"\n",
    "import numpy as np\n",
    "\n",
    "print('Dataset Stats')\n",
    "print('Roughly the number of unique words: {}'.format(len({word: None for word in source_text.split()})))\n",
    "\n",
    "sentences = source_text.split('\\n')\n",
    "word_counts = [len(sentence.split()) for sentence in sentences]\n",
    "print('Number of sentences: {}'.format(len(sentences)))\n",
    "print('Average number of words in a sentence: {}'.format(np.average(word_counts)))\n",
    "\n",
    "print()\n",
    "print('English sentences {} to {}:'.format(*view_sentence_range))\n",
    "print('\\n'.join(source_text.split('\\n')[view_sentence_range[0]:view_sentence_range[1]]))\n",
    "print()\n",
    "print('French sentences {} to {}:'.format(*view_sentence_range))\n",
    "print('\\n'.join(target_text.split('\\n')[view_sentence_range[0]:view_sentence_range[1]]))"
   ]
  },
  {
   "cell_type": "markdown",
   "metadata": {
    "deletable": true,
    "editable": true
   },
   "source": [
    "## Implement Preprocessing Function\n",
    "### Text to Word Ids\n",
    "As you did with other RNNs, you must turn the text into a number so the computer can understand it. In the function `text_to_ids()`, you'll turn `source_text` and `target_text` from words to ids.  However, you need to add the `<EOS>` word id at the end of each sentence from `target_text`.  This will help the neural network predict when the sentence should end.\n",
    "\n",
    "You can get the `<EOS>` word id by doing:\n",
    "```python\n",
    "target_vocab_to_int['<EOS>']\n",
    "```\n",
    "You can get other word ids using `source_vocab_to_int` and `target_vocab_to_int`."
   ]
  },
  {
   "cell_type": "code",
   "execution_count": 3,
   "metadata": {
    "collapsed": false,
    "deletable": true,
    "editable": true
   },
   "outputs": [
    {
     "name": "stdout",
     "output_type": "stream",
     "text": [
      "Tests Passed\n"
     ]
    }
   ],
   "source": [
    "def text_to_ids(source_text, target_text, source_vocab_to_int, target_vocab_to_int):\n",
    "    \"\"\"\n",
    "    Convert source and target text to proper word ids\n",
    "    :param source_text: String that contains all the source text.\n",
    "    :param target_text: String that contains all the target text.\n",
    "    :param source_vocab_to_int: Dictionary to go from the source words to an id\n",
    "    :param target_vocab_to_int: Dictionary to go from the target words to an id\n",
    "    :return: A tuple of lists (source_id_text, target_id_text)\n",
    "    \"\"\"\n",
    "    # TODO: Implement Function\n",
    "    source_id_text = [[source_vocab_to_int.get(word, source_vocab_to_int['<UNK>']) for word in line.split(' ')] for line in source_text.split('\\n')]\n",
    "    target_id_text = [[target_vocab_to_int.get(word, target_vocab_to_int['<UNK>']) for word in line.split(' ')+['<EOS>']]\n",
    "                     for line in target_text.split('\\n')]\n",
    "    return source_id_text, target_id_text\n",
    "\n",
    "\"\"\"\n",
    "DON'T MODIFY ANYTHING IN THIS CELL THAT IS BELOW THIS LINE\n",
    "\"\"\"\n",
    "tests.test_text_to_ids(text_to_ids)"
   ]
  },
  {
   "cell_type": "markdown",
   "metadata": {
    "deletable": true,
    "editable": true
   },
   "source": [
    "### Preprocess all the data and save it\n",
    "Running the code cell below will preprocess all the data and save it to file."
   ]
  },
  {
   "cell_type": "code",
   "execution_count": 4,
   "metadata": {
    "collapsed": false,
    "deletable": true,
    "editable": true
   },
   "outputs": [],
   "source": [
    "\"\"\"\n",
    "DON'T MODIFY ANYTHING IN THIS CELL\n",
    "\"\"\"\n",
    "helper.preprocess_and_save_data(source_path, target_path, text_to_ids)"
   ]
  },
  {
   "cell_type": "markdown",
   "metadata": {
    "deletable": true,
    "editable": true
   },
   "source": [
    "# Check Point\n",
    "This is your first checkpoint. If you ever decide to come back to this notebook or have to restart the notebook, you can start from here. The preprocessed data has been saved to disk."
   ]
  },
  {
   "cell_type": "code",
   "execution_count": 5,
   "metadata": {
    "collapsed": false,
    "deletable": true,
    "editable": true
   },
   "outputs": [],
   "source": [
    "\"\"\"\n",
    "DON'T MODIFY ANYTHING IN THIS CELL\n",
    "\"\"\"\n",
    "import numpy as np\n",
    "import helper\n",
    "\n",
    "(source_int_text, target_int_text), (source_vocab_to_int, target_vocab_to_int), _ = helper.load_preprocess()"
   ]
  },
  {
   "cell_type": "markdown",
   "metadata": {
    "deletable": true,
    "editable": true
   },
   "source": [
    "### Check the Version of TensorFlow and Access to GPU\n",
    "This will check to make sure you have the correct version of TensorFlow and access to a GPU"
   ]
  },
  {
   "cell_type": "code",
   "execution_count": 6,
   "metadata": {
    "collapsed": false,
    "deletable": true,
    "editable": true
   },
   "outputs": [
    {
     "name": "stdout",
     "output_type": "stream",
     "text": [
      "TensorFlow Version: 1.0.0\n",
      "Default GPU Device: /gpu:0\n"
     ]
    }
   ],
   "source": [
    "\"\"\"\n",
    "DON'T MODIFY ANYTHING IN THIS CELL\n",
    "\"\"\"\n",
    "from distutils.version import LooseVersion\n",
    "import warnings\n",
    "import tensorflow as tf\n",
    "\n",
    "# Check TensorFlow Version\n",
    "assert LooseVersion(tf.__version__) in [LooseVersion('1.0.0'), LooseVersion('1.0.1')], 'This project requires TensorFlow version 1.0  You are using {}'.format(tf.__version__)\n",
    "print('TensorFlow Version: {}'.format(tf.__version__))\n",
    "\n",
    "# Check for a GPU\n",
    "if not tf.test.gpu_device_name():\n",
    "    warnings.warn('No GPU found. Please use a GPU to train your neural network.')\n",
    "else:\n",
    "    print('Default GPU Device: {}'.format(tf.test.gpu_device_name()))"
   ]
  },
  {
   "cell_type": "markdown",
   "metadata": {
    "deletable": true,
    "editable": true
   },
   "source": [
    "## Build the Neural Network\n",
    "You'll build the components necessary to build a Sequence-to-Sequence model by implementing the following functions below:\n",
    "- `model_inputs`\n",
    "- `process_decoding_input`\n",
    "- `encoding_layer`\n",
    "- `decoding_layer_train`\n",
    "- `decoding_layer_infer`\n",
    "- `decoding_layer`\n",
    "- `seq2seq_model`\n",
    "\n",
    "### Input\n",
    "Implement the `model_inputs()` function to create TF Placeholders for the Neural Network. It should create the following placeholders:\n",
    "\n",
    "- Input text placeholder named \"input\" using the TF Placeholder name parameter with rank 2.\n",
    "- Targets placeholder with rank 2.\n",
    "- Learning rate placeholder with rank 0.\n",
    "- Keep probability placeholder named \"keep_prob\" using the TF Placeholder name parameter with rank 0.\n",
    "\n",
    "Return the placeholders in the following the tuple (Input, Targets, Learing Rate, Keep Probability)"
   ]
  },
  {
   "cell_type": "code",
   "execution_count": 7,
   "metadata": {
    "collapsed": false,
    "deletable": true,
    "editable": true
   },
   "outputs": [
    {
     "name": "stdout",
     "output_type": "stream",
     "text": [
      "Tests Passed\n"
     ]
    }
   ],
   "source": [
    "def model_inputs():\n",
    "    \"\"\"\n",
    "    Create TF Placeholders for input, targets, and learning rate.\n",
    "    :return: Tuple (input, targets, learning rate, keep probability)\n",
    "    \"\"\"\n",
    "    # TODO: Implement Function\n",
    "    inputs=tf.placeholder(tf.int32, [None, None],name='input')\n",
    "    targets=tf.placeholder(tf.int32, [None, None], name='target')\n",
    "    learning_rate=tf.placeholder(tf.float32, name='lr')\n",
    "    keep_prob=tf.placeholder(tf.float32, name='keep_prob')\n",
    "    return inputs, targets, learning_rate, keep_prob\n",
    "\n",
    "\"\"\"\n",
    "DON'T MODIFY ANYTHING IN THIS CELL THAT IS BELOW THIS LINE\n",
    "\"\"\"\n",
    "tests.test_model_inputs(model_inputs)"
   ]
  },
  {
   "cell_type": "markdown",
   "metadata": {
    "deletable": true,
    "editable": true
   },
   "source": [
    "### Process Decoding Input\n",
    "Implement `process_decoding_input` using TensorFlow to remove the last word id from each batch in `target_data` and concat the GO ID to the beginning of each batch."
   ]
  },
  {
   "cell_type": "code",
   "execution_count": 8,
   "metadata": {
    "collapsed": false,
    "deletable": true,
    "editable": true
   },
   "outputs": [
    {
     "name": "stdout",
     "output_type": "stream",
     "text": [
      "Tests Passed\n"
     ]
    }
   ],
   "source": [
    "def process_decoding_input(target_data, target_vocab_to_int, batch_size):\n",
    "    \"\"\"\n",
    "    Preprocess target data for decoding\n",
    "    :param target_data: Target Placeholder\n",
    "    :param target_vocab_to_int: Dictionary to go from the target words to an id\n",
    "    :param batch_size: Batch Size\n",
    "    :return: Preprocessed target data\n",
    "    \"\"\"\n",
    "    # TODO: Implement Function\n",
    "    ending=tf.strided_slice(target_data, [0,0], [batch_size,-1], [1,1])\n",
    "    preprocessed_target_data=tf.concat([tf.fill([batch_size,1], target_vocab_to_int['<GO>']), ending], 1)\n",
    "    return preprocessed_target_data\n",
    "\n",
    "\"\"\"\n",
    "DON'T MODIFY ANYTHING IN THIS CELL THAT IS BELOW THIS LINE\n",
    "\"\"\"\n",
    "tests.test_process_decoding_input(process_decoding_input)"
   ]
  },
  {
   "cell_type": "markdown",
   "metadata": {
    "deletable": true,
    "editable": true
   },
   "source": [
    "### Encoding\n",
    "Implement `encoding_layer()` to create a Encoder RNN layer using [`tf.nn.dynamic_rnn()`](https://www.tensorflow.org/api_docs/python/tf/nn/dynamic_rnn)."
   ]
  },
  {
   "cell_type": "code",
   "execution_count": 9,
   "metadata": {
    "collapsed": false,
    "deletable": true,
    "editable": true
   },
   "outputs": [
    {
     "name": "stdout",
     "output_type": "stream",
     "text": [
      "Tests Passed\n"
     ]
    }
   ],
   "source": [
    "def encoding_layer(rnn_inputs, rnn_size, num_layers, keep_prob):\n",
    "    \"\"\"\n",
    "    Create encoding layer\n",
    "    :param rnn_inputs: Inputs for the RNN\n",
    "    :param rnn_size: RNN Size\n",
    "    :param num_layers: Number of layers\n",
    "    :param keep_prob: Dropout keep probability\n",
    "    :return: RNN state\n",
    "    \"\"\"\n",
    "    # TODO: Implement Function\n",
    "    enc_cell=tf.contrib.rnn.MultiRNNCell([tf.contrib.rnn.BasicLSTMCell(rnn_size)]*num_layers)\n",
    "    _, enc_state=tf.nn.dynamic_rnn(enc_cell, tf.nn.dropout(rnn_inputs, keep_prob), dtype=tf.float32)\n",
    "    return enc_state\n",
    "\n",
    "\"\"\"\n",
    "DON'T MODIFY ANYTHING IN THIS CELL THAT IS BELOW THIS LINE\n",
    "\"\"\"\n",
    "tests.test_encoding_layer(encoding_layer)"
   ]
  },
  {
   "cell_type": "markdown",
   "metadata": {
    "deletable": true,
    "editable": true
   },
   "source": [
    "### Decoding - Training\n",
    "Create training logits using [`tf.contrib.seq2seq.simple_decoder_fn_train()`](https://www.tensorflow.org/versions/r1.0/api_docs/python/tf/contrib/seq2seq/simple_decoder_fn_train) and [`tf.contrib.seq2seq.dynamic_rnn_decoder()`](https://www.tensorflow.org/versions/r1.0/api_docs/python/tf/contrib/seq2seq/dynamic_rnn_decoder).  Apply the `output_fn` to the [`tf.contrib.seq2seq.dynamic_rnn_decoder()`](https://www.tensorflow.org/versions/r1.0/api_docs/python/tf/contrib/seq2seq/dynamic_rnn_decoder) outputs."
   ]
  },
  {
   "cell_type": "code",
   "execution_count": 10,
   "metadata": {
    "collapsed": false,
    "deletable": true,
    "editable": true
   },
   "outputs": [
    {
     "name": "stdout",
     "output_type": "stream",
     "text": [
      "Tests Passed\n"
     ]
    }
   ],
   "source": [
    "def decoding_layer_train(encoder_state, dec_cell, dec_embed_input, sequence_length, decoding_scope,\n",
    "                         output_fn, keep_prob):\n",
    "    \"\"\"\n",
    "    Create a decoding layer for training\n",
    "    :param encoder_state: Encoder State\n",
    "    :param dec_cell: Decoder RNN Cell\n",
    "    :param dec_embed_input: Decoder embedded input\n",
    "    :param sequence_length: Sequence Length\n",
    "    :param decoding_scope: TenorFlow Variable Scope for decoding\n",
    "    :param output_fn: Function to apply the output layer\n",
    "    :param keep_prob: Dropout keep probability\n",
    "    :return: Train Logits\n",
    "    \"\"\"\n",
    "    # TODO: Implement Function\n",
    "    train_decoder_fn=tf.contrib.seq2seq.simple_decoder_fn_train(encoder_state)\n",
    "    train_pred, _, _ = tf.contrib.seq2seq.dynamic_rnn_decoder(dec_cell, train_decoder_fn, dec_embed_input,\n",
    "                                                             sequence_length, scope=decoding_scope)\n",
    "    logits=output_fn(train_pred)\n",
    "    \n",
    "    return logits\n",
    "\n",
    "\n",
    "\"\"\"\n",
    "DON'T MODIFY ANYTHING IN THIS CELL THAT IS BELOW THIS LINE\n",
    "\"\"\"\n",
    "tests.test_decoding_layer_train(decoding_layer_train)"
   ]
  },
  {
   "cell_type": "markdown",
   "metadata": {
    "deletable": true,
    "editable": true
   },
   "source": [
    "### Decoding - Inference\n",
    "Create inference logits using [`tf.contrib.seq2seq.simple_decoder_fn_inference()`](https://www.tensorflow.org/versions/r1.0/api_docs/python/tf/contrib/seq2seq/simple_decoder_fn_inference) and [`tf.contrib.seq2seq.dynamic_rnn_decoder()`](https://www.tensorflow.org/versions/r1.0/api_docs/python/tf/contrib/seq2seq/dynamic_rnn_decoder). "
   ]
  },
  {
   "cell_type": "code",
   "execution_count": 11,
   "metadata": {
    "collapsed": false,
    "deletable": true,
    "editable": true
   },
   "outputs": [
    {
     "name": "stdout",
     "output_type": "stream",
     "text": [
      "Tests Passed\n"
     ]
    }
   ],
   "source": [
    "def decoding_layer_infer(encoder_state, dec_cell, dec_embeddings, start_of_sequence_id, end_of_sequence_id,\n",
    "                         maximum_length, vocab_size, decoding_scope, output_fn, keep_prob):\n",
    "    \"\"\"\n",
    "    Create a decoding layer for inference\n",
    "    :param encoder_state: Encoder state\n",
    "    :param dec_cell: Decoder RNN Cell\n",
    "    :param dec_embeddings: Decoder embeddings\n",
    "    :param start_of_sequence_id: GO ID\n",
    "    :param end_of_sequence_id: EOS Id\n",
    "    :param maximum_length: The maximum allowed time steps to decode\n",
    "    :param vocab_size: Size of vocabulary\n",
    "    :param decoding_scope: TensorFlow Variable Scope for decoding\n",
    "    :param output_fn: Function to apply the output layer\n",
    "    :param keep_prob: Dropout keep probability\n",
    "    :return: Inference Logits\n",
    "    \"\"\"\n",
    "    # TODO: Implement Function\n",
    "\n",
    "    infer_decoder_fn=tf.contrib.seq2seq.simple_decoder_fn_inference(output_fn,\n",
    "                                                                   encoder_state, dec_embeddings,\n",
    "                                                                   start_of_sequence_id,\n",
    "                                                                   end_of_sequence_id,\n",
    "                                                                    maximum_length-1,\n",
    "                                                                   vocab_size)\n",
    "    inference_logits, _, _ = tf.contrib.seq2seq.dynamic_rnn_decoder(dec_cell, infer_decoder_fn, scope=decoding_scope)\n",
    "\n",
    "    return inference_logits\n",
    "\n",
    "\n",
    "\"\"\"\n",
    "DON'T MODIFY ANYTHING IN THIS CELL THAT IS BELOW THIS LINE\n",
    "\"\"\"\n",
    "tests.test_decoding_layer_infer(decoding_layer_infer)"
   ]
  },
  {
   "cell_type": "markdown",
   "metadata": {
    "deletable": true,
    "editable": true
   },
   "source": [
    "### Build the Decoding Layer\n",
    "Implement `decoding_layer()` to create a Decoder RNN layer.\n",
    "\n",
    "- Create RNN cell for decoding using `rnn_size` and `num_layers`.\n",
    "- Create the output fuction using [`lambda`](https://docs.python.org/3/tutorial/controlflow.html#lambda-expressions) to transform it's input, logits, to class logits.\n",
    "- Use the your `decoding_layer_train(encoder_state, dec_cell, dec_embed_input, sequence_length, decoding_scope, output_fn, keep_prob)` function to get the training logits.\n",
    "- Use your `decoding_layer_infer(encoder_state, dec_cell, dec_embeddings, start_of_sequence_id, end_of_sequence_id, maximum_length, vocab_size, decoding_scope, output_fn, keep_prob)` function to get the inference logits.\n",
    "\n",
    "Note: You'll need to use [tf.variable_scope](https://www.tensorflow.org/api_docs/python/tf/variable_scope) to share variables between training and inference."
   ]
  },
  {
   "cell_type": "code",
   "execution_count": 12,
   "metadata": {
    "collapsed": false,
    "deletable": true,
    "editable": true
   },
   "outputs": [
    {
     "name": "stdout",
     "output_type": "stream",
     "text": [
      "Tests Passed\n"
     ]
    }
   ],
   "source": [
    "def decoding_layer(dec_embed_input, dec_embeddings, encoder_state, vocab_size, sequence_length, rnn_size,\n",
    "                   num_layers, target_vocab_to_int, keep_prob):  \n",
    "    \n",
    "    \n",
    "    dec_cell = tf.contrib.rnn.MultiRNNCell(\n",
    "        [tf.contrib.rnn.BasicLSTMCell(rnn_size)] * num_layers)\n",
    "    \n",
    "    with tf.variable_scope(\"decoding\") as decoding_scope:\n",
    "        output_fn = lambda x: tf.contrib.layers.fully_connected(\n",
    "            x, vocab_size, None, scope=decoding_scope) \n",
    "        train_logits = decoding_layer_train(\n",
    "            encoder_state, dec_cell, dec_embed_input, sequence_length, \n",
    "            decoding_scope, output_fn, keep_prob)\n",
    "        \n",
    "    with tf.variable_scope(\"decoding\", reuse=True) as decoding_scope:\n",
    "        infer_logits = decoding_layer_infer(\n",
    "            encoder_state, dec_cell, dec_embeddings, \n",
    "            target_vocab_to_int['<GO>'], target_vocab_to_int['<EOS>'], \n",
    "            sequence_length, vocab_size, decoding_scope, output_fn, keep_prob)\n",
    "    \n",
    "    return train_logits, infer_logits\n",
    "tests.test_decoding_layer(decoding_layer)"
   ]
  },
  {
   "cell_type": "markdown",
   "metadata": {
    "deletable": true,
    "editable": true
   },
   "source": [
    "### Build the Neural Network\n",
    "Apply the functions you implemented above to:\n",
    "\n",
    "- Apply embedding to the input data for the encoder.\n",
    "- Encode the input using your `encoding_layer(rnn_inputs, rnn_size, num_layers, keep_prob)`.\n",
    "- Process target data using your `process_decoding_input(target_data, target_vocab_to_int, batch_size)` function.\n",
    "- Apply embedding to the target data for the decoder.\n",
    "- Decode the encoded input using your `decoding_layer(dec_embed_input, dec_embeddings, encoder_state, vocab_size, sequence_length, rnn_size, num_layers, target_vocab_to_int, keep_prob)`."
   ]
  },
  {
   "cell_type": "code",
   "execution_count": 13,
   "metadata": {
    "collapsed": false,
    "deletable": true,
    "editable": true
   },
   "outputs": [
    {
     "name": "stdout",
     "output_type": "stream",
     "text": [
      "Tests Passed\n"
     ]
    }
   ],
   "source": [
    "def seq2seq_model(input_data, target_data, keep_prob, batch_size, sequence_length, source_vocab_size, target_vocab_size,\n",
    "                  enc_embedding_size, dec_embedding_size, rnn_size, num_layers, target_vocab_to_int):\n",
    "    \"\"\"\n",
    "    Build the Sequence-to-Sequence part of the neural network\n",
    "    :param input_data: Input placeholder\n",
    "    :param target_data: Target placeholder\n",
    "    :param keep_prob: Dropout keep probability placeholder\n",
    "    :param batch_size: Batch Size\n",
    "    :param sequence_length: Sequence Length\n",
    "    :param source_vocab_size: Source vocabulary size\n",
    "    :param target_vocab_size: Target vocabulary size\n",
    "    :param enc_embedding_size: Decoder embedding size\n",
    "    :param dec_embedding_size: Encoder embedding size\n",
    "    :param rnn_size: RNN Size\n",
    "    :param num_layers: Number of layers\n",
    "    :param target_vocab_to_int: Dictionary to go from the target words to an id\n",
    "    :return: Tuple of (Training Logits, Inference Logits)\n",
    "    \"\"\"\n",
    "    # TODO: Implement Function\n",
    "    \n",
    "    enc_embed_input=tf.contrib.layers.embed_sequence(input_data, source_vocab_size, enc_embedding_size)\n",
    "    encoder_state=encoding_layer(enc_embed_input, rnn_size, num_layers, keep_prob)\n",
    "    \n",
    "    processed_target_data=process_decoding_input(target_data, target_vocab_to_int, batch_size)\n",
    "    \n",
    "    dec_embeddings=tf.Variable(tf.random_uniform([target_vocab_size, dec_embedding_size]))\n",
    "    dec_embed_input=tf.nn.embedding_lookup(dec_embeddings, processed_target_data)\n",
    "    train_logits, infer_logits=decoding_layer(dec_embed_input, dec_embeddings, encoder_state, target_vocab_size,\n",
    "                                             sequence_length, rnn_size, num_layers, target_vocab_to_int, keep_prob)\n",
    "    \n",
    "    return train_logits, infer_logits\n",
    "\n",
    "\n",
    "\"\"\"\n",
    "DON'T MODIFY ANYTHING IN THIS CELL THAT IS BELOW THIS LINE\n",
    "\"\"\"\n",
    "tests.test_seq2seq_model(seq2seq_model)"
   ]
  },
  {
   "cell_type": "markdown",
   "metadata": {
    "deletable": true,
    "editable": true
   },
   "source": [
    "## Neural Network Training\n",
    "### Hyperparameters\n",
    "Tune the following parameters:\n",
    "\n",
    "- Set `epochs` to the number of epochs.\n",
    "- Set `batch_size` to the batch size.\n",
    "- Set `rnn_size` to the size of the RNNs.\n",
    "- Set `num_layers` to the number of layers.\n",
    "- Set `encoding_embedding_size` to the size of the embedding for the encoder.\n",
    "- Set `decoding_embedding_size` to the size of the embedding for the decoder.\n",
    "- Set `learning_rate` to the learning rate.\n",
    "- Set `keep_probability` to the Dropout keep probability"
   ]
  },
  {
   "cell_type": "code",
   "execution_count": 18,
   "metadata": {
    "collapsed": false,
    "deletable": true,
    "editable": true
   },
   "outputs": [],
   "source": [
    "# Number of Epochs\n",
    "epochs = 10\n",
    "# Batch Size\n",
    "batch_size = 512\n",
    "# RNN Size\n",
    "rnn_size = 512\n",
    "# Number of Layers\n",
    "num_layers = 2\n",
    "# Embedding Size\n",
    "encoding_embedding_size = 128\n",
    "decoding_embedding_size = 128\n",
    "# Learning Rate\n",
    "learning_rate = 0.001\n",
    "# Dropout Keep Probability\n",
    "keep_probability = 1.0"
   ]
  },
  {
   "cell_type": "markdown",
   "metadata": {
    "deletable": true,
    "editable": true
   },
   "source": [
    "### Build the Graph\n",
    "Build the graph using the neural network you implemented."
   ]
  },
  {
   "cell_type": "code",
   "execution_count": 15,
   "metadata": {
    "collapsed": false,
    "deletable": true,
    "editable": true
   },
   "outputs": [],
   "source": [
    "\"\"\"\n",
    "DON'T MODIFY ANYTHING IN THIS CELL\n",
    "\"\"\"\n",
    "save_path = 'checkpoints/dev'\n",
    "(source_int_text, target_int_text), (source_vocab_to_int, target_vocab_to_int), _ = helper.load_preprocess()\n",
    "max_source_sentence_length = max([len(sentence) for sentence in source_int_text])\n",
    "\n",
    "train_graph = tf.Graph()\n",
    "with train_graph.as_default():\n",
    "    input_data, targets, lr, keep_prob = model_inputs()\n",
    "    sequence_length = tf.placeholder_with_default(max_source_sentence_length, None, name='sequence_length')\n",
    "    input_shape = tf.shape(input_data)\n",
    "    \n",
    "    train_logits, inference_logits = seq2seq_model(\n",
    "        tf.reverse(input_data, [-1]), targets, keep_prob, batch_size, sequence_length, len(source_vocab_to_int), len(target_vocab_to_int),\n",
    "        encoding_embedding_size, decoding_embedding_size, rnn_size, num_layers, target_vocab_to_int)\n",
    "\n",
    "    tf.identity(inference_logits, 'logits')\n",
    "    with tf.name_scope(\"optimization\"):\n",
    "        # Loss function\n",
    "        cost = tf.contrib.seq2seq.sequence_loss(\n",
    "            train_logits,\n",
    "            targets,\n",
    "            tf.ones([input_shape[0], sequence_length]))\n",
    "\n",
    "        # Optimizer\n",
    "        optimizer = tf.train.AdamOptimizer(lr)\n",
    "\n",
    "        # Gradient Clipping\n",
    "        gradients = optimizer.compute_gradients(cost)\n",
    "        capped_gradients = [(tf.clip_by_value(grad, -1., 1.), var) for grad, var in gradients if grad is not None]\n",
    "        train_op = optimizer.apply_gradients(capped_gradients)"
   ]
  },
  {
   "cell_type": "markdown",
   "metadata": {
    "deletable": true,
    "editable": true
   },
   "source": [
    "### Train\n",
    "Train the neural network on the preprocessed data. If you have a hard time getting a good loss, check the forums to see if anyone is having the same problem."
   ]
  },
  {
   "cell_type": "code",
   "execution_count": 19,
   "metadata": {
    "collapsed": false,
    "deletable": true,
    "editable": true,
    "scrolled": true
   },
   "outputs": [
    {
     "name": "stdout",
     "output_type": "stream",
     "text": [
      "Epoch   0 Batch    0/269 - Train Accuracy:  0.253, Validation Accuracy:  0.321, Loss:  5.898\n",
      "Epoch   0 Batch    5/269 - Train Accuracy:  0.296, Validation Accuracy:  0.367, Loss:  3.792\n",
      "Epoch   0 Batch   10/269 - Train Accuracy:  0.312, Validation Accuracy:  0.377, Loss:  3.201\n",
      "Epoch   0 Batch   15/269 - Train Accuracy:  0.352, Validation Accuracy:  0.391, Loss:  2.976\n",
      "Epoch   0 Batch   20/269 - Train Accuracy:  0.355, Validation Accuracy:  0.409, Loss:  2.880\n",
      "Epoch   0 Batch   25/269 - Train Accuracy:  0.394, Validation Accuracy:  0.450, Loss:  2.770\n",
      "Epoch   0 Batch   30/269 - Train Accuracy:  0.368, Validation Accuracy:  0.398, Loss:  2.552\n",
      "Epoch   0 Batch   35/269 - Train Accuracy:  0.439, Validation Accuracy:  0.459, Loss:  2.487\n",
      "Epoch   0 Batch   40/269 - Train Accuracy:  0.411, Validation Accuracy:  0.464, Loss:  2.448\n",
      "Epoch   0 Batch   45/269 - Train Accuracy:  0.437, Validation Accuracy:  0.482, Loss:  2.392\n",
      "Epoch   0 Batch   50/269 - Train Accuracy:  0.413, Validation Accuracy:  0.470, Loss:  2.342\n",
      "Epoch   0 Batch   55/269 - Train Accuracy:  0.451, Validation Accuracy:  0.470, Loss:  2.189\n",
      "Epoch   0 Batch   60/269 - Train Accuracy:  0.462, Validation Accuracy:  0.477, Loss:  2.393\n",
      "Epoch   0 Batch   65/269 - Train Accuracy:  0.430, Validation Accuracy:  0.458, Loss:  2.180\n",
      "Epoch   0 Batch   70/269 - Train Accuracy:  0.440, Validation Accuracy:  0.464, Loss:  2.146\n",
      "Epoch   0 Batch   75/269 - Train Accuracy:  0.464, Validation Accuracy:  0.485, Loss:  2.120\n",
      "Epoch   0 Batch   80/269 - Train Accuracy:  0.485, Validation Accuracy:  0.497, Loss:  2.025\n",
      "Epoch   0 Batch   85/269 - Train Accuracy:  0.455, Validation Accuracy:  0.483, Loss:  2.053\n",
      "Epoch   0 Batch   90/269 - Train Accuracy:  0.407, Validation Accuracy:  0.462, Loss:  2.168\n",
      "Epoch   0 Batch   95/269 - Train Accuracy:  0.452, Validation Accuracy:  0.475, Loss:  1.978\n",
      "Epoch   0 Batch  100/269 - Train Accuracy:  0.494, Validation Accuracy:  0.505, Loss:  1.977\n",
      "Epoch   0 Batch  105/269 - Train Accuracy:  0.468, Validation Accuracy:  0.496, Loss:  1.922\n",
      "Epoch   0 Batch  110/269 - Train Accuracy:  0.480, Validation Accuracy:  0.509, Loss:  1.874\n",
      "Epoch   0 Batch  115/269 - Train Accuracy:  0.450, Validation Accuracy:  0.496, Loss:  1.901\n",
      "Epoch   0 Batch  120/269 - Train Accuracy:  0.407, Validation Accuracy:  0.472, Loss:  2.065\n",
      "Epoch   0 Batch  125/269 - Train Accuracy:  0.472, Validation Accuracy:  0.500, Loss:  1.874\n",
      "Epoch   0 Batch  130/269 - Train Accuracy:  0.444, Validation Accuracy:  0.503, Loss:  1.975\n",
      "Epoch   0 Batch  135/269 - Train Accuracy:  0.428, Validation Accuracy:  0.492, Loss:  1.888\n",
      "Epoch   0 Batch  140/269 - Train Accuracy:  0.489, Validation Accuracy:  0.506, Loss:  1.700\n",
      "Epoch   0 Batch  145/269 - Train Accuracy:  0.478, Validation Accuracy:  0.510, Loss:  1.664\n",
      "Epoch   0 Batch  150/269 - Train Accuracy:  0.512, Validation Accuracy:  0.530, Loss:  1.612\n",
      "Epoch   0 Batch  155/269 - Train Accuracy:  0.538, Validation Accuracy:  0.526, Loss:  1.457\n",
      "Epoch   0 Batch  160/269 - Train Accuracy:  0.467, Validation Accuracy:  0.495, Loss:  1.627\n",
      "Epoch   0 Batch  165/269 - Train Accuracy:  0.464, Validation Accuracy:  0.519, Loss:  1.606\n",
      "Epoch   0 Batch  170/269 - Train Accuracy:  0.496, Validation Accuracy:  0.509, Loss:  1.442\n",
      "Epoch   0 Batch  175/269 - Train Accuracy:  0.510, Validation Accuracy:  0.522, Loss:  1.424\n",
      "Epoch   0 Batch  180/269 - Train Accuracy:  0.500, Validation Accuracy:  0.521, Loss:  1.436\n",
      "Epoch   0 Batch  185/269 - Train Accuracy:  0.502, Validation Accuracy:  0.516, Loss:  1.457\n",
      "Epoch   0 Batch  190/269 - Train Accuracy:  0.526, Validation Accuracy:  0.535, Loss:  1.347\n",
      "Epoch   0 Batch  195/269 - Train Accuracy:  0.517, Validation Accuracy:  0.533, Loss:  1.311\n",
      "Epoch   0 Batch  200/269 - Train Accuracy:  0.500, Validation Accuracy:  0.535, Loss:  1.333\n",
      "Epoch   0 Batch  205/269 - Train Accuracy:  0.505, Validation Accuracy:  0.540, Loss:  1.241\n",
      "Epoch   0 Batch  210/269 - Train Accuracy:  0.519, Validation Accuracy:  0.524, Loss:  1.228\n",
      "Epoch   0 Batch  215/269 - Train Accuracy:  0.541, Validation Accuracy:  0.539, Loss:  1.148\n",
      "Epoch   0 Batch  220/269 - Train Accuracy:  0.525, Validation Accuracy:  0.534, Loss:  1.144\n",
      "Epoch   0 Batch  225/269 - Train Accuracy:  0.511, Validation Accuracy:  0.538, Loss:  1.231\n",
      "Epoch   0 Batch  230/269 - Train Accuracy:  0.495, Validation Accuracy:  0.521, Loss:  1.201\n",
      "Epoch   0 Batch  235/269 - Train Accuracy:  0.535, Validation Accuracy:  0.545, Loss:  1.163\n",
      "Epoch   0 Batch  240/269 - Train Accuracy:  0.506, Validation Accuracy:  0.479, Loss:  1.370\n",
      "Epoch   0 Batch  245/269 - Train Accuracy:  0.471, Validation Accuracy:  0.514, Loss:  1.299\n",
      "Epoch   0 Batch  250/269 - Train Accuracy:  0.513, Validation Accuracy:  0.548, Loss:  1.256\n",
      "Epoch   0 Batch  255/269 - Train Accuracy:  0.561, Validation Accuracy:  0.556, Loss:  1.105\n",
      "Epoch   0 Batch  260/269 - Train Accuracy:  0.505, Validation Accuracy:  0.538, Loss:  1.183\n",
      "Epoch   0 Batch  265/269 - Train Accuracy:  0.510, Validation Accuracy:  0.545, Loss:  1.122\n",
      "Epoch   1 Batch    0/269 - Train Accuracy:  0.511, Validation Accuracy:  0.555, Loss:  1.155\n",
      "Epoch   1 Batch    5/269 - Train Accuracy:  0.511, Validation Accuracy:  0.551, Loss:  1.099\n",
      "Epoch   1 Batch   10/269 - Train Accuracy:  0.528, Validation Accuracy:  0.554, Loss:  1.066\n",
      "Epoch   1 Batch   15/269 - Train Accuracy:  0.539, Validation Accuracy:  0.552, Loss:  1.022\n",
      "Epoch   1 Batch   20/269 - Train Accuracy:  0.530, Validation Accuracy:  0.561, Loss:  1.061\n",
      "Epoch   1 Batch   25/269 - Train Accuracy:  0.524, Validation Accuracy:  0.561, Loss:  1.051\n",
      "Epoch   1 Batch   30/269 - Train Accuracy:  0.547, Validation Accuracy:  0.549, Loss:  0.968\n",
      "Epoch   1 Batch   35/269 - Train Accuracy:  0.568, Validation Accuracy:  0.560, Loss:  0.972\n",
      "Epoch   1 Batch   40/269 - Train Accuracy:  0.533, Validation Accuracy:  0.577, Loss:  0.980\n",
      "Epoch   1 Batch   45/269 - Train Accuracy:  0.548, Validation Accuracy:  0.569, Loss:  0.973\n",
      "Epoch   1 Batch   50/269 - Train Accuracy:  0.536, Validation Accuracy:  0.572, Loss:  0.954\n",
      "Epoch   1 Batch   55/269 - Train Accuracy:  0.574, Validation Accuracy:  0.576, Loss:  0.876\n",
      "Epoch   1 Batch   60/269 - Train Accuracy:  0.578, Validation Accuracy:  0.572, Loss:  0.826\n",
      "Epoch   1 Batch   65/269 - Train Accuracy:  0.562, Validation Accuracy:  0.568, Loss:  0.849\n",
      "Epoch   1 Batch   70/269 - Train Accuracy:  0.572, Validation Accuracy:  0.577, Loss:  0.839\n",
      "Epoch   1 Batch   75/269 - Train Accuracy:  0.575, Validation Accuracy:  0.588, Loss:  0.827\n",
      "Epoch   1 Batch   80/269 - Train Accuracy:  0.590, Validation Accuracy:  0.582, Loss:  0.795\n",
      "Epoch   1 Batch   85/269 - Train Accuracy:  0.574, Validation Accuracy:  0.571, Loss:  0.799\n",
      "Epoch   1 Batch   90/269 - Train Accuracy:  0.551, Validation Accuracy:  0.591, Loss:  0.835\n",
      "Epoch   1 Batch   95/269 - Train Accuracy:  0.587, Validation Accuracy:  0.587, Loss:  0.781\n",
      "Epoch   1 Batch  100/269 - Train Accuracy:  0.582, Validation Accuracy:  0.581, Loss:  0.759\n",
      "Epoch   1 Batch  105/269 - Train Accuracy:  0.579, Validation Accuracy:  0.593, Loss:  0.768\n",
      "Epoch   1 Batch  110/269 - Train Accuracy:  0.572, Validation Accuracy:  0.580, Loss:  0.733\n",
      "Epoch   1 Batch  115/269 - Train Accuracy:  0.573, Validation Accuracy:  0.602, Loss:  0.765\n",
      "Epoch   1 Batch  120/269 - Train Accuracy:  0.587, Validation Accuracy:  0.594, Loss:  0.749\n",
      "Epoch   1 Batch  125/269 - Train Accuracy:  0.596, Validation Accuracy:  0.602, Loss:  0.703\n",
      "Epoch   1 Batch  130/269 - Train Accuracy:  0.577, Validation Accuracy:  0.604, Loss:  0.740\n",
      "Epoch   1 Batch  135/269 - Train Accuracy:  0.580, Validation Accuracy:  0.604, Loss:  0.757\n",
      "Epoch   1 Batch  140/269 - Train Accuracy:  0.606, Validation Accuracy:  0.605, Loss:  0.711\n",
      "Epoch   1 Batch  145/269 - Train Accuracy:  0.601, Validation Accuracy:  0.594, Loss:  0.686\n",
      "Epoch   1 Batch  150/269 - Train Accuracy:  0.597, Validation Accuracy:  0.608, Loss:  0.686\n",
      "Epoch   1 Batch  155/269 - Train Accuracy:  0.629, Validation Accuracy:  0.604, Loss:  0.643\n",
      "Epoch   1 Batch  160/269 - Train Accuracy:  0.619, Validation Accuracy:  0.614, Loss:  0.669\n",
      "Epoch   1 Batch  165/269 - Train Accuracy:  0.593, Validation Accuracy:  0.615, Loss:  0.670\n",
      "Epoch   1 Batch  170/269 - Train Accuracy:  0.603, Validation Accuracy:  0.607, Loss:  0.641\n",
      "Epoch   1 Batch  175/269 - Train Accuracy:  0.619, Validation Accuracy:  0.612, Loss:  0.675\n",
      "Epoch   1 Batch  180/269 - Train Accuracy:  0.601, Validation Accuracy:  0.604, Loss:  0.628\n",
      "Epoch   1 Batch  185/269 - Train Accuracy:  0.628, Validation Accuracy:  0.616, Loss:  0.632\n",
      "Epoch   1 Batch  190/269 - Train Accuracy:  0.619, Validation Accuracy:  0.622, Loss:  0.612\n",
      "Epoch   1 Batch  195/269 - Train Accuracy:  0.625, Validation Accuracy:  0.615, Loss:  0.623\n",
      "Epoch   1 Batch  200/269 - Train Accuracy:  0.611, Validation Accuracy:  0.618, Loss:  0.639\n",
      "Epoch   1 Batch  205/269 - Train Accuracy:  0.632, Validation Accuracy:  0.623, Loss:  0.600\n",
      "Epoch   1 Batch  210/269 - Train Accuracy:  0.622, Validation Accuracy:  0.619, Loss:  0.603\n",
      "Epoch   1 Batch  215/269 - Train Accuracy:  0.653, Validation Accuracy:  0.618, Loss:  0.572\n",
      "Epoch   1 Batch  220/269 - Train Accuracy:  0.602, Validation Accuracy:  0.595, Loss:  0.577\n",
      "Epoch   1 Batch  225/269 - Train Accuracy:  0.631, Validation Accuracy:  0.635, Loss:  0.604\n",
      "Epoch   1 Batch  230/269 - Train Accuracy:  0.618, Validation Accuracy:  0.622, Loss:  0.588\n",
      "Epoch   1 Batch  235/269 - Train Accuracy:  0.636, Validation Accuracy:  0.623, Loss:  0.571\n",
      "Epoch   1 Batch  240/269 - Train Accuracy:  0.670, Validation Accuracy:  0.642, Loss:  0.527\n",
      "Epoch   1 Batch  245/269 - Train Accuracy:  0.625, Validation Accuracy:  0.632, Loss:  0.603\n",
      "Epoch   1 Batch  250/269 - Train Accuracy:  0.637, Validation Accuracy:  0.651, Loss:  0.568\n",
      "Epoch   1 Batch  255/269 - Train Accuracy:  0.665, Validation Accuracy:  0.631, Loss:  0.531\n",
      "Epoch   1 Batch  260/269 - Train Accuracy:  0.608, Validation Accuracy:  0.628, Loss:  0.586\n",
      "Epoch   1 Batch  265/269 - Train Accuracy:  0.619, Validation Accuracy:  0.640, Loss:  0.575\n",
      "Epoch   2 Batch    0/269 - Train Accuracy:  0.627, Validation Accuracy:  0.642, Loss:  0.584\n",
      "Epoch   2 Batch    5/269 - Train Accuracy:  0.588, Validation Accuracy:  0.620, Loss:  0.582\n",
      "Epoch   2 Batch   10/269 - Train Accuracy:  0.637, Validation Accuracy:  0.646, Loss:  0.588\n",
      "Epoch   2 Batch   15/269 - Train Accuracy:  0.618, Validation Accuracy:  0.647, Loss:  0.532\n",
      "Epoch   2 Batch   20/269 - Train Accuracy:  0.651, Validation Accuracy:  0.659, Loss:  0.554\n",
      "Epoch   2 Batch   25/269 - Train Accuracy:  0.640, Validation Accuracy:  0.656, Loss:  0.548\n",
      "Epoch   2 Batch   30/269 - Train Accuracy:  0.643, Validation Accuracy:  0.641, Loss:  0.508\n",
      "Epoch   2 Batch   35/269 - Train Accuracy:  0.670, Validation Accuracy:  0.662, Loss:  0.526\n",
      "Epoch   2 Batch   40/269 - Train Accuracy:  0.650, Validation Accuracy:  0.661, Loss:  0.523\n",
      "Epoch   2 Batch   45/269 - Train Accuracy:  0.659, Validation Accuracy:  0.669, Loss:  0.515\n",
      "Epoch   2 Batch   50/269 - Train Accuracy:  0.656, Validation Accuracy:  0.666, Loss:  0.517\n",
      "Epoch   2 Batch   55/269 - Train Accuracy:  0.666, Validation Accuracy:  0.673, Loss:  0.481\n",
      "Epoch   2 Batch   60/269 - Train Accuracy:  0.660, Validation Accuracy:  0.657, Loss:  0.470\n",
      "Epoch   2 Batch   65/269 - Train Accuracy:  0.662, Validation Accuracy:  0.665, Loss:  0.479\n",
      "Epoch   2 Batch   70/269 - Train Accuracy:  0.686, Validation Accuracy:  0.677, Loss:  0.486\n",
      "Epoch   2 Batch   75/269 - Train Accuracy:  0.684, Validation Accuracy:  0.681, Loss:  0.468\n",
      "Epoch   2 Batch   80/269 - Train Accuracy:  0.687, Validation Accuracy:  0.690, Loss:  0.462\n",
      "Epoch   2 Batch   85/269 - Train Accuracy:  0.683, Validation Accuracy:  0.691, Loss:  0.455\n",
      "Epoch   2 Batch   90/269 - Train Accuracy:  0.656, Validation Accuracy:  0.687, Loss:  0.481\n",
      "Epoch   2 Batch   95/269 - Train Accuracy:  0.678, Validation Accuracy:  0.681, Loss:  0.449\n",
      "Epoch   2 Batch  100/269 - Train Accuracy:  0.706, Validation Accuracy:  0.695, Loss:  0.454\n",
      "Epoch   2 Batch  105/269 - Train Accuracy:  0.677, Validation Accuracy:  0.686, Loss:  0.489\n",
      "Epoch   2 Batch  110/269 - Train Accuracy:  0.679, Validation Accuracy:  0.688, Loss:  0.457\n",
      "Epoch   2 Batch  115/269 - Train Accuracy:  0.671, Validation Accuracy:  0.692, Loss:  0.475\n",
      "Epoch   2 Batch  120/269 - Train Accuracy:  0.671, Validation Accuracy:  0.680, Loss:  0.453\n",
      "Epoch   2 Batch  125/269 - Train Accuracy:  0.693, Validation Accuracy:  0.696, Loss:  0.434\n",
      "Epoch   2 Batch  130/269 - Train Accuracy:  0.710, Validation Accuracy:  0.705, Loss:  0.444\n",
      "Epoch   2 Batch  135/269 - Train Accuracy:  0.674, Validation Accuracy:  0.704, Loss:  0.455\n",
      "Epoch   2 Batch  140/269 - Train Accuracy:  0.703, Validation Accuracy:  0.719, Loss:  0.433\n",
      "Epoch   2 Batch  145/269 - Train Accuracy:  0.729, Validation Accuracy:  0.719, Loss:  0.417\n",
      "Epoch   2 Batch  150/269 - Train Accuracy:  0.721, Validation Accuracy:  0.719, Loss:  0.414\n",
      "Epoch   2 Batch  155/269 - Train Accuracy:  0.724, Validation Accuracy:  0.716, Loss:  0.397\n",
      "Epoch   2 Batch  160/269 - Train Accuracy:  0.724, Validation Accuracy:  0.730, Loss:  0.406\n",
      "Epoch   2 Batch  165/269 - Train Accuracy:  0.697, Validation Accuracy:  0.711, Loss:  0.426\n",
      "Epoch   2 Batch  170/269 - Train Accuracy:  0.702, Validation Accuracy:  0.713, Loss:  0.404\n",
      "Epoch   2 Batch  175/269 - Train Accuracy:  0.726, Validation Accuracy:  0.730, Loss:  0.418\n",
      "Epoch   2 Batch  180/269 - Train Accuracy:  0.741, Validation Accuracy:  0.718, Loss:  0.392\n",
      "Epoch   2 Batch  185/269 - Train Accuracy:  0.750, Validation Accuracy:  0.727, Loss:  0.379\n",
      "Epoch   2 Batch  190/269 - Train Accuracy:  0.730, Validation Accuracy:  0.733, Loss:  0.374\n",
      "Epoch   2 Batch  195/269 - Train Accuracy:  0.729, Validation Accuracy:  0.727, Loss:  0.388\n",
      "Epoch   2 Batch  200/269 - Train Accuracy:  0.731, Validation Accuracy:  0.731, Loss:  0.389\n",
      "Epoch   2 Batch  205/269 - Train Accuracy:  0.721, Validation Accuracy:  0.705, Loss:  0.419\n",
      "Epoch   2 Batch  210/269 - Train Accuracy:  0.732, Validation Accuracy:  0.739, Loss:  0.392\n",
      "Epoch   2 Batch  215/269 - Train Accuracy:  0.757, Validation Accuracy:  0.741, Loss:  0.368\n",
      "Epoch   2 Batch  220/269 - Train Accuracy:  0.715, Validation Accuracy:  0.715, Loss:  0.392\n",
      "Epoch   2 Batch  225/269 - Train Accuracy:  0.727, Validation Accuracy:  0.735, Loss:  0.382\n",
      "Epoch   2 Batch  230/269 - Train Accuracy:  0.732, Validation Accuracy:  0.739, Loss:  0.427\n",
      "Epoch   2 Batch  235/269 - Train Accuracy:  0.753, Validation Accuracy:  0.737, Loss:  0.366\n",
      "Epoch   2 Batch  240/269 - Train Accuracy:  0.772, Validation Accuracy:  0.747, Loss:  0.333\n",
      "Epoch   2 Batch  245/269 - Train Accuracy:  0.718, Validation Accuracy:  0.735, Loss:  0.399\n",
      "Epoch   2 Batch  250/269 - Train Accuracy:  0.745, Validation Accuracy:  0.743, Loss:  0.361\n",
      "Epoch   2 Batch  255/269 - Train Accuracy:  0.760, Validation Accuracy:  0.745, Loss:  0.345\n",
      "Epoch   2 Batch  260/269 - Train Accuracy:  0.641, Validation Accuracy:  0.664, Loss:  0.472\n",
      "Epoch   2 Batch  265/269 - Train Accuracy:  0.296, Validation Accuracy:  0.363, Loss:  7.626\n",
      "Epoch   3 Batch    0/269 - Train Accuracy:  0.379, Validation Accuracy:  0.433, Loss:  2.719\n",
      "Epoch   3 Batch    5/269 - Train Accuracy:  0.396, Validation Accuracy:  0.451, Loss:  1.431\n",
      "Epoch   3 Batch   10/269 - Train Accuracy:  0.507, Validation Accuracy:  0.539, Loss:  1.016\n",
      "Epoch   3 Batch   15/269 - Train Accuracy:  0.534, Validation Accuracy:  0.548, Loss:  0.837\n",
      "Epoch   3 Batch   20/269 - Train Accuracy:  0.569, Validation Accuracy:  0.579, Loss:  0.805\n",
      "Epoch   3 Batch   25/269 - Train Accuracy:  0.563, Validation Accuracy:  0.592, Loss:  0.754\n",
      "Epoch   3 Batch   30/269 - Train Accuracy:  0.590, Validation Accuracy:  0.592, Loss:  0.664\n",
      "Epoch   3 Batch   35/269 - Train Accuracy:  0.598, Validation Accuracy:  0.611, Loss:  0.654\n",
      "Epoch   3 Batch   40/269 - Train Accuracy:  0.590, Validation Accuracy:  0.614, Loss:  0.644\n",
      "Epoch   3 Batch   45/269 - Train Accuracy:  0.593, Validation Accuracy:  0.622, Loss:  0.619\n",
      "Epoch   3 Batch   50/269 - Train Accuracy:  0.611, Validation Accuracy:  0.632, Loss:  0.601\n",
      "Epoch   3 Batch   55/269 - Train Accuracy:  0.640, Validation Accuracy:  0.636, Loss:  0.545\n",
      "Epoch   3 Batch   60/269 - Train Accuracy:  0.642, Validation Accuracy:  0.632, Loss:  0.529\n",
      "Epoch   3 Batch   65/269 - Train Accuracy:  0.622, Validation Accuracy:  0.639, Loss:  0.578\n",
      "Epoch   3 Batch   70/269 - Train Accuracy:  0.643, Validation Accuracy:  0.649, Loss:  0.534\n",
      "Epoch   3 Batch   75/269 - Train Accuracy:  0.648, Validation Accuracy:  0.659, Loss:  0.508\n",
      "Epoch   3 Batch   80/269 - Train Accuracy:  0.679, Validation Accuracy:  0.655, Loss:  0.489\n",
      "Epoch   3 Batch   85/269 - Train Accuracy:  0.657, Validation Accuracy:  0.663, Loss:  0.478\n",
      "Epoch   3 Batch   90/269 - Train Accuracy:  0.631, Validation Accuracy:  0.675, Loss:  0.498\n",
      "Epoch   3 Batch   95/269 - Train Accuracy:  0.672, Validation Accuracy:  0.691, Loss:  0.460\n",
      "Epoch   3 Batch  100/269 - Train Accuracy:  0.680, Validation Accuracy:  0.682, Loss:  0.474\n",
      "Epoch   3 Batch  105/269 - Train Accuracy:  0.674, Validation Accuracy:  0.693, Loss:  0.455\n",
      "Epoch   3 Batch  110/269 - Train Accuracy:  0.702, Validation Accuracy:  0.705, Loss:  0.433\n",
      "Epoch   3 Batch  115/269 - Train Accuracy:  0.656, Validation Accuracy:  0.694, Loss:  0.459\n",
      "Epoch   3 Batch  120/269 - Train Accuracy:  0.702, Validation Accuracy:  0.724, Loss:  0.437\n",
      "Epoch   3 Batch  125/269 - Train Accuracy:  0.710, Validation Accuracy:  0.709, Loss:  0.419\n",
      "Epoch   3 Batch  130/269 - Train Accuracy:  0.694, Validation Accuracy:  0.719, Loss:  0.434\n",
      "Epoch   3 Batch  135/269 - Train Accuracy:  0.623, Validation Accuracy:  0.660, Loss:  0.490\n",
      "Epoch   3 Batch  140/269 - Train Accuracy:  0.702, Validation Accuracy:  0.712, Loss:  0.449\n",
      "Epoch   3 Batch  145/269 - Train Accuracy:  0.733, Validation Accuracy:  0.733, Loss:  0.421\n",
      "Epoch   3 Batch  150/269 - Train Accuracy:  0.718, Validation Accuracy:  0.717, Loss:  0.399\n",
      "Epoch   3 Batch  155/269 - Train Accuracy:  0.730, Validation Accuracy:  0.726, Loss:  0.387\n",
      "Epoch   3 Batch  160/269 - Train Accuracy:  0.728, Validation Accuracy:  0.730, Loss:  0.387\n",
      "Epoch   3 Batch  165/269 - Train Accuracy:  0.729, Validation Accuracy:  0.733, Loss:  0.392\n",
      "Epoch   3 Batch  170/269 - Train Accuracy:  0.736, Validation Accuracy:  0.737, Loss:  0.371\n",
      "Epoch   3 Batch  175/269 - Train Accuracy:  0.730, Validation Accuracy:  0.752, Loss:  0.390\n",
      "Epoch   3 Batch  180/269 - Train Accuracy:  0.755, Validation Accuracy:  0.750, Loss:  0.368\n",
      "Epoch   3 Batch  185/269 - Train Accuracy:  0.752, Validation Accuracy:  0.748, Loss:  0.358\n",
      "Epoch   3 Batch  190/269 - Train Accuracy:  0.748, Validation Accuracy:  0.752, Loss:  0.353\n",
      "Epoch   3 Batch  195/269 - Train Accuracy:  0.755, Validation Accuracy:  0.757, Loss:  0.361\n",
      "Epoch   3 Batch  200/269 - Train Accuracy:  0.741, Validation Accuracy:  0.761, Loss:  0.376\n",
      "Epoch   3 Batch  205/269 - Train Accuracy:  0.752, Validation Accuracy:  0.756, Loss:  0.356\n",
      "Epoch   3 Batch  210/269 - Train Accuracy:  0.753, Validation Accuracy:  0.763, Loss:  0.358\n",
      "Epoch   3 Batch  215/269 - Train Accuracy:  0.772, Validation Accuracy:  0.747, Loss:  0.334\n",
      "Epoch   3 Batch  220/269 - Train Accuracy:  0.756, Validation Accuracy:  0.762, Loss:  0.342\n",
      "Epoch   3 Batch  225/269 - Train Accuracy:  0.745, Validation Accuracy:  0.768, Loss:  0.359\n",
      "Epoch   3 Batch  230/269 - Train Accuracy:  0.756, Validation Accuracy:  0.767, Loss:  0.344\n",
      "Epoch   3 Batch  235/269 - Train Accuracy:  0.771, Validation Accuracy:  0.762, Loss:  0.338\n",
      "Epoch   3 Batch  240/269 - Train Accuracy:  0.786, Validation Accuracy:  0.763, Loss:  0.303\n",
      "Epoch   3 Batch  245/269 - Train Accuracy:  0.739, Validation Accuracy:  0.763, Loss:  0.355\n",
      "Epoch   3 Batch  250/269 - Train Accuracy:  0.770, Validation Accuracy:  0.767, Loss:  0.337\n",
      "Epoch   3 Batch  255/269 - Train Accuracy:  0.741, Validation Accuracy:  0.738, Loss:  0.332\n",
      "Epoch   3 Batch  260/269 - Train Accuracy:  0.738, Validation Accuracy:  0.758, Loss:  0.353\n",
      "Epoch   3 Batch  265/269 - Train Accuracy:  0.756, Validation Accuracy:  0.762, Loss:  0.345\n",
      "Epoch   4 Batch    0/269 - Train Accuracy:  0.764, Validation Accuracy:  0.766, Loss:  0.347\n",
      "Epoch   4 Batch    5/269 - Train Accuracy:  0.747, Validation Accuracy:  0.778, Loss:  0.338\n",
      "Epoch   4 Batch   10/269 - Train Accuracy:  0.767, Validation Accuracy:  0.766, Loss:  0.332\n",
      "Epoch   4 Batch   15/269 - Train Accuracy:  0.758, Validation Accuracy:  0.769, Loss:  0.315\n",
      "Epoch   4 Batch   20/269 - Train Accuracy:  0.781, Validation Accuracy:  0.777, Loss:  0.327\n",
      "Epoch   4 Batch   25/269 - Train Accuracy:  0.775, Validation Accuracy:  0.788, Loss:  0.331\n",
      "Epoch   4 Batch   30/269 - Train Accuracy:  0.752, Validation Accuracy:  0.771, Loss:  0.330\n",
      "Epoch   4 Batch   35/269 - Train Accuracy:  0.775, Validation Accuracy:  0.774, Loss:  0.338\n",
      "Epoch   4 Batch   40/269 - Train Accuracy:  0.761, Validation Accuracy:  0.784, Loss:  0.333\n",
      "Epoch   4 Batch   45/269 - Train Accuracy:  0.777, Validation Accuracy:  0.783, Loss:  0.319\n",
      "Epoch   4 Batch   50/269 - Train Accuracy:  0.742, Validation Accuracy:  0.788, Loss:  0.327\n",
      "Epoch   4 Batch   55/269 - Train Accuracy:  0.797, Validation Accuracy:  0.783, Loss:  0.290\n",
      "Epoch   4 Batch   60/269 - Train Accuracy:  0.795, Validation Accuracy:  0.786, Loss:  0.283\n",
      "Epoch   4 Batch   65/269 - Train Accuracy:  0.777, Validation Accuracy:  0.788, Loss:  0.294\n",
      "Epoch   4 Batch   70/269 - Train Accuracy:  0.795, Validation Accuracy:  0.798, Loss:  0.289\n",
      "Epoch   4 Batch   75/269 - Train Accuracy:  0.792, Validation Accuracy:  0.798, Loss:  0.287\n",
      "Epoch   4 Batch   80/269 - Train Accuracy:  0.803, Validation Accuracy:  0.803, Loss:  0.281\n",
      "Epoch   4 Batch   85/269 - Train Accuracy:  0.801, Validation Accuracy:  0.797, Loss:  0.284\n",
      "Epoch   4 Batch   90/269 - Train Accuracy:  0.761, Validation Accuracy:  0.787, Loss:  0.294\n",
      "Epoch   4 Batch   95/269 - Train Accuracy:  0.798, Validation Accuracy:  0.796, Loss:  0.277\n",
      "Epoch   4 Batch  100/269 - Train Accuracy:  0.800, Validation Accuracy:  0.807, Loss:  0.281\n",
      "Epoch   4 Batch  105/269 - Train Accuracy:  0.785, Validation Accuracy:  0.804, Loss:  0.278\n",
      "Epoch   4 Batch  110/269 - Train Accuracy:  0.792, Validation Accuracy:  0.793, Loss:  0.262\n",
      "Epoch   4 Batch  115/269 - Train Accuracy:  0.783, Validation Accuracy:  0.783, Loss:  0.286\n",
      "Epoch   4 Batch  120/269 - Train Accuracy:  0.786, Validation Accuracy:  0.792, Loss:  0.273\n",
      "Epoch   4 Batch  125/269 - Train Accuracy:  0.794, Validation Accuracy:  0.785, Loss:  0.276\n",
      "Epoch   4 Batch  130/269 - Train Accuracy:  0.785, Validation Accuracy:  0.792, Loss:  0.271\n",
      "Epoch   4 Batch  135/269 - Train Accuracy:  0.762, Validation Accuracy:  0.780, Loss:  0.290\n",
      "Epoch   4 Batch  140/269 - Train Accuracy:  0.795, Validation Accuracy:  0.790, Loss:  0.275\n",
      "Epoch   4 Batch  145/269 - Train Accuracy:  0.808, Validation Accuracy:  0.810, Loss:  0.256\n",
      "Epoch   4 Batch  150/269 - Train Accuracy:  0.793, Validation Accuracy:  0.808, Loss:  0.249\n",
      "Epoch   4 Batch  155/269 - Train Accuracy:  0.799, Validation Accuracy:  0.804, Loss:  0.241\n",
      "Epoch   4 Batch  160/269 - Train Accuracy:  0.805, Validation Accuracy:  0.817, Loss:  0.251\n",
      "Epoch   4 Batch  165/269 - Train Accuracy:  0.793, Validation Accuracy:  0.789, Loss:  0.250\n",
      "Epoch   4 Batch  170/269 - Train Accuracy:  0.802, Validation Accuracy:  0.800, Loss:  0.236\n",
      "Epoch   4 Batch  175/269 - Train Accuracy:  0.789, Validation Accuracy:  0.806, Loss:  0.259\n",
      "Epoch   4 Batch  180/269 - Train Accuracy:  0.811, Validation Accuracy:  0.814, Loss:  0.242\n",
      "Epoch   4 Batch  185/269 - Train Accuracy:  0.811, Validation Accuracy:  0.817, Loss:  0.229\n",
      "Epoch   4 Batch  190/269 - Train Accuracy:  0.816, Validation Accuracy:  0.815, Loss:  0.229\n",
      "Epoch   4 Batch  195/269 - Train Accuracy:  0.823, Validation Accuracy:  0.822, Loss:  0.235\n",
      "Epoch   4 Batch  200/269 - Train Accuracy:  0.813, Validation Accuracy:  0.821, Loss:  0.242\n",
      "Epoch   4 Batch  205/269 - Train Accuracy:  0.809, Validation Accuracy:  0.813, Loss:  0.242\n",
      "Epoch   4 Batch  210/269 - Train Accuracy:  0.814, Validation Accuracy:  0.813, Loss:  0.228\n",
      "Epoch   4 Batch  215/269 - Train Accuracy:  0.840, Validation Accuracy:  0.811, Loss:  0.215\n",
      "Epoch   4 Batch  220/269 - Train Accuracy:  0.820, Validation Accuracy:  0.812, Loss:  0.208\n",
      "Epoch   4 Batch  225/269 - Train Accuracy:  0.810, Validation Accuracy:  0.823, Loss:  0.218\n",
      "Epoch   4 Batch  230/269 - Train Accuracy:  0.832, Validation Accuracy:  0.822, Loss:  0.211\n",
      "Epoch   4 Batch  235/269 - Train Accuracy:  0.841, Validation Accuracy:  0.821, Loss:  0.207\n",
      "Epoch   4 Batch  240/269 - Train Accuracy:  0.821, Validation Accuracy:  0.806, Loss:  0.210\n",
      "Epoch   4 Batch  245/269 - Train Accuracy:  0.801, Validation Accuracy:  0.825, Loss:  0.229\n",
      "Epoch   4 Batch  250/269 - Train Accuracy:  0.826, Validation Accuracy:  0.819, Loss:  0.217\n",
      "Epoch   4 Batch  255/269 - Train Accuracy:  0.807, Validation Accuracy:  0.801, Loss:  0.217\n",
      "Epoch   4 Batch  260/269 - Train Accuracy:  0.795, Validation Accuracy:  0.814, Loss:  0.239\n",
      "Epoch   4 Batch  265/269 - Train Accuracy:  0.818, Validation Accuracy:  0.818, Loss:  0.214\n",
      "Epoch   5 Batch    0/269 - Train Accuracy:  0.828, Validation Accuracy:  0.831, Loss:  0.221\n",
      "Epoch   5 Batch    5/269 - Train Accuracy:  0.815, Validation Accuracy:  0.834, Loss:  0.207\n",
      "Epoch   5 Batch   10/269 - Train Accuracy:  0.824, Validation Accuracy:  0.824, Loss:  0.212\n",
      "Epoch   5 Batch   15/269 - Train Accuracy:  0.813, Validation Accuracy:  0.811, Loss:  0.196\n",
      "Epoch   5 Batch   20/269 - Train Accuracy:  0.830, Validation Accuracy:  0.824, Loss:  0.199\n",
      "Epoch   5 Batch   25/269 - Train Accuracy:  0.833, Validation Accuracy:  0.840, Loss:  0.206\n",
      "Epoch   5 Batch   30/269 - Train Accuracy:  0.833, Validation Accuracy:  0.830, Loss:  0.210\n",
      "Epoch   5 Batch   35/269 - Train Accuracy:  0.837, Validation Accuracy:  0.830, Loss:  0.211\n",
      "Epoch   5 Batch   40/269 - Train Accuracy:  0.829, Validation Accuracy:  0.836, Loss:  0.203\n",
      "Epoch   5 Batch   45/269 - Train Accuracy:  0.838, Validation Accuracy:  0.834, Loss:  0.190\n",
      "Epoch   5 Batch   50/269 - Train Accuracy:  0.815, Validation Accuracy:  0.842, Loss:  0.202\n",
      "Epoch   5 Batch   55/269 - Train Accuracy:  0.858, Validation Accuracy:  0.844, Loss:  0.184\n",
      "Epoch   5 Batch   60/269 - Train Accuracy:  0.839, Validation Accuracy:  0.825, Loss:  0.175\n",
      "Epoch   5 Batch   65/269 - Train Accuracy:  0.821, Validation Accuracy:  0.828, Loss:  0.185\n",
      "Epoch   5 Batch   70/269 - Train Accuracy:  0.840, Validation Accuracy:  0.825, Loss:  0.216\n",
      "Epoch   5 Batch   75/269 - Train Accuracy:  0.831, Validation Accuracy:  0.824, Loss:  0.197\n",
      "Epoch   5 Batch   80/269 - Train Accuracy:  0.834, Validation Accuracy:  0.836, Loss:  0.181\n",
      "Epoch   5 Batch   85/269 - Train Accuracy:  0.847, Validation Accuracy:  0.835, Loss:  0.181\n",
      "Epoch   5 Batch   90/269 - Train Accuracy:  0.833, Validation Accuracy:  0.839, Loss:  0.186\n",
      "Epoch   5 Batch   95/269 - Train Accuracy:  0.857, Validation Accuracy:  0.843, Loss:  0.166\n",
      "Epoch   5 Batch  100/269 - Train Accuracy:  0.856, Validation Accuracy:  0.846, Loss:  0.171\n",
      "Epoch   5 Batch  105/269 - Train Accuracy:  0.839, Validation Accuracy:  0.850, Loss:  0.171\n",
      "Epoch   5 Batch  110/269 - Train Accuracy:  0.844, Validation Accuracy:  0.840, Loss:  0.163\n",
      "Epoch   5 Batch  115/269 - Train Accuracy:  0.818, Validation Accuracy:  0.830, Loss:  0.185\n",
      "Epoch   5 Batch  120/269 - Train Accuracy:  0.824, Validation Accuracy:  0.842, Loss:  0.186\n",
      "Epoch   5 Batch  125/269 - Train Accuracy:  0.852, Validation Accuracy:  0.841, Loss:  0.164\n",
      "Epoch   5 Batch  130/269 - Train Accuracy:  0.839, Validation Accuracy:  0.845, Loss:  0.169\n",
      "Epoch   5 Batch  135/269 - Train Accuracy:  0.835, Validation Accuracy:  0.844, Loss:  0.168\n",
      "Epoch   5 Batch  140/269 - Train Accuracy:  0.842, Validation Accuracy:  0.842, Loss:  0.170\n",
      "Epoch   5 Batch  145/269 - Train Accuracy:  0.845, Validation Accuracy:  0.850, Loss:  0.156\n",
      "Epoch   5 Batch  150/269 - Train Accuracy:  0.839, Validation Accuracy:  0.844, Loss:  0.159\n",
      "Epoch   5 Batch  155/269 - Train Accuracy:  0.860, Validation Accuracy:  0.850, Loss:  0.150\n",
      "Epoch   5 Batch  160/269 - Train Accuracy:  0.864, Validation Accuracy:  0.862, Loss:  0.154\n",
      "Epoch   5 Batch  165/269 - Train Accuracy:  0.862, Validation Accuracy:  0.854, Loss:  0.150\n",
      "Epoch   5 Batch  170/269 - Train Accuracy:  0.859, Validation Accuracy:  0.858, Loss:  0.143\n",
      "Epoch   5 Batch  175/269 - Train Accuracy:  0.853, Validation Accuracy:  0.854, Loss:  0.161\n",
      "Epoch   5 Batch  180/269 - Train Accuracy:  0.878, Validation Accuracy:  0.862, Loss:  0.145\n",
      "Epoch   5 Batch  185/269 - Train Accuracy:  0.873, Validation Accuracy:  0.858, Loss:  0.143\n",
      "Epoch   5 Batch  190/269 - Train Accuracy:  0.870, Validation Accuracy:  0.871, Loss:  0.147\n",
      "Epoch   5 Batch  195/269 - Train Accuracy:  0.848, Validation Accuracy:  0.855, Loss:  0.146\n",
      "Epoch   5 Batch  200/269 - Train Accuracy:  0.800, Validation Accuracy:  0.808, Loss:  0.210\n",
      "Epoch   5 Batch  205/269 - Train Accuracy:  0.839, Validation Accuracy:  0.844, Loss:  0.185\n",
      "Epoch   5 Batch  210/269 - Train Accuracy:  0.852, Validation Accuracy:  0.849, Loss:  0.156\n",
      "Epoch   5 Batch  215/269 - Train Accuracy:  0.877, Validation Accuracy:  0.854, Loss:  0.137\n",
      "Epoch   5 Batch  220/269 - Train Accuracy:  0.845, Validation Accuracy:  0.859, Loss:  0.128\n",
      "Epoch   5 Batch  225/269 - Train Accuracy:  0.843, Validation Accuracy:  0.843, Loss:  0.139\n",
      "Epoch   5 Batch  230/269 - Train Accuracy:  0.857, Validation Accuracy:  0.855, Loss:  0.141\n",
      "Epoch   5 Batch  235/269 - Train Accuracy:  0.878, Validation Accuracy:  0.859, Loss:  0.138\n",
      "Epoch   5 Batch  240/269 - Train Accuracy:  0.874, Validation Accuracy:  0.859, Loss:  0.128\n",
      "Epoch   5 Batch  245/269 - Train Accuracy:  0.844, Validation Accuracy:  0.874, Loss:  0.135\n",
      "Epoch   5 Batch  250/269 - Train Accuracy:  0.878, Validation Accuracy:  0.874, Loss:  0.127\n",
      "Epoch   5 Batch  255/269 - Train Accuracy:  0.879, Validation Accuracy:  0.873, Loss:  0.112\n",
      "Epoch   5 Batch  260/269 - Train Accuracy:  0.867, Validation Accuracy:  0.879, Loss:  0.129\n",
      "Epoch   5 Batch  265/269 - Train Accuracy:  0.879, Validation Accuracy:  0.872, Loss:  0.119\n",
      "Epoch   6 Batch    0/269 - Train Accuracy:  0.883, Validation Accuracy:  0.877, Loss:  0.120\n",
      "Epoch   6 Batch    5/269 - Train Accuracy:  0.871, Validation Accuracy:  0.877, Loss:  0.116\n",
      "Epoch   6 Batch   10/269 - Train Accuracy:  0.876, Validation Accuracy:  0.873, Loss:  0.110\n",
      "Epoch   6 Batch   15/269 - Train Accuracy:  0.882, Validation Accuracy:  0.873, Loss:  0.100\n",
      "Epoch   6 Batch   20/269 - Train Accuracy:  0.884, Validation Accuracy:  0.883, Loss:  0.108\n",
      "Epoch   6 Batch   25/269 - Train Accuracy:  0.887, Validation Accuracy:  0.884, Loss:  0.113\n",
      "Epoch   6 Batch   30/269 - Train Accuracy:  0.881, Validation Accuracy:  0.880, Loss:  0.106\n",
      "Epoch   6 Batch   35/269 - Train Accuracy:  0.890, Validation Accuracy:  0.879, Loss:  0.118\n",
      "Epoch   6 Batch   40/269 - Train Accuracy:  0.877, Validation Accuracy:  0.880, Loss:  0.116\n",
      "Epoch   6 Batch   45/269 - Train Accuracy:  0.889, Validation Accuracy:  0.880, Loss:  0.107\n",
      "Epoch   6 Batch   50/269 - Train Accuracy:  0.864, Validation Accuracy:  0.884, Loss:  0.117\n",
      "Epoch   6 Batch   55/269 - Train Accuracy:  0.907, Validation Accuracy:  0.888, Loss:  0.103\n",
      "Epoch   6 Batch   60/269 - Train Accuracy:  0.895, Validation Accuracy:  0.880, Loss:  0.097\n",
      "Epoch   6 Batch   65/269 - Train Accuracy:  0.885, Validation Accuracy:  0.887, Loss:  0.101\n",
      "Epoch   6 Batch   70/269 - Train Accuracy:  0.886, Validation Accuracy:  0.873, Loss:  0.149\n",
      "Epoch   6 Batch   75/269 - Train Accuracy:  0.874, Validation Accuracy:  0.876, Loss:  0.125\n",
      "Epoch   6 Batch   80/269 - Train Accuracy:  0.860, Validation Accuracy:  0.845, Loss:  0.205\n",
      "Epoch   6 Batch   85/269 - Train Accuracy:  0.847, Validation Accuracy:  0.846, Loss:  0.182\n",
      "Epoch   6 Batch   90/269 - Train Accuracy:  0.828, Validation Accuracy:  0.842, Loss:  0.166\n",
      "Epoch   6 Batch   95/269 - Train Accuracy:  0.880, Validation Accuracy:  0.858, Loss:  0.126\n",
      "Epoch   6 Batch  100/269 - Train Accuracy:  0.883, Validation Accuracy:  0.871, Loss:  0.116\n",
      "Epoch   6 Batch  105/269 - Train Accuracy:  0.876, Validation Accuracy:  0.881, Loss:  0.114\n",
      "Epoch   6 Batch  110/269 - Train Accuracy:  0.886, Validation Accuracy:  0.878, Loss:  0.097\n",
      "Epoch   6 Batch  115/269 - Train Accuracy:  0.879, Validation Accuracy:  0.882, Loss:  0.107\n",
      "Epoch   6 Batch  120/269 - Train Accuracy:  0.882, Validation Accuracy:  0.901, Loss:  0.101\n",
      "Epoch   6 Batch  125/269 - Train Accuracy:  0.894, Validation Accuracy:  0.888, Loss:  0.092\n",
      "Epoch   6 Batch  130/269 - Train Accuracy:  0.893, Validation Accuracy:  0.885, Loss:  0.093\n",
      "Epoch   6 Batch  135/269 - Train Accuracy:  0.894, Validation Accuracy:  0.892, Loss:  0.094\n",
      "Epoch   6 Batch  140/269 - Train Accuracy:  0.894, Validation Accuracy:  0.898, Loss:  0.094\n",
      "Epoch   6 Batch  145/269 - Train Accuracy:  0.889, Validation Accuracy:  0.897, Loss:  0.084\n",
      "Epoch   6 Batch  150/269 - Train Accuracy:  0.877, Validation Accuracy:  0.894, Loss:  0.089\n",
      "Epoch   6 Batch  155/269 - Train Accuracy:  0.890, Validation Accuracy:  0.902, Loss:  0.083\n",
      "Epoch   6 Batch  160/269 - Train Accuracy:  0.901, Validation Accuracy:  0.903, Loss:  0.085\n",
      "Epoch   6 Batch  165/269 - Train Accuracy:  0.909, Validation Accuracy:  0.901, Loss:  0.080\n",
      "Epoch   6 Batch  170/269 - Train Accuracy:  0.902, Validation Accuracy:  0.904, Loss:  0.079\n",
      "Epoch   6 Batch  175/269 - Train Accuracy:  0.886, Validation Accuracy:  0.898, Loss:  0.092\n",
      "Epoch   6 Batch  180/269 - Train Accuracy:  0.906, Validation Accuracy:  0.903, Loss:  0.078\n",
      "Epoch   6 Batch  185/269 - Train Accuracy:  0.911, Validation Accuracy:  0.900, Loss:  0.079\n",
      "Epoch   6 Batch  190/269 - Train Accuracy:  0.905, Validation Accuracy:  0.905, Loss:  0.078\n",
      "Epoch   6 Batch  195/269 - Train Accuracy:  0.900, Validation Accuracy:  0.902, Loss:  0.079\n",
      "Epoch   6 Batch  200/269 - Train Accuracy:  0.911, Validation Accuracy:  0.898, Loss:  0.079\n",
      "Epoch   6 Batch  205/269 - Train Accuracy:  0.894, Validation Accuracy:  0.902, Loss:  0.078\n",
      "Epoch   6 Batch  210/269 - Train Accuracy:  0.908, Validation Accuracy:  0.903, Loss:  0.076\n",
      "Epoch   6 Batch  215/269 - Train Accuracy:  0.886, Validation Accuracy:  0.873, Loss:  0.121\n",
      "Epoch   6 Batch  220/269 - Train Accuracy:  0.861, Validation Accuracy:  0.876, Loss:  0.094\n",
      "Epoch   6 Batch  225/269 - Train Accuracy:  0.876, Validation Accuracy:  0.881, Loss:  0.091\n",
      "Epoch   6 Batch  230/269 - Train Accuracy:  0.892, Validation Accuracy:  0.894, Loss:  0.080\n",
      "Epoch   6 Batch  235/269 - Train Accuracy:  0.916, Validation Accuracy:  0.892, Loss:  0.068\n",
      "Epoch   6 Batch  240/269 - Train Accuracy:  0.912, Validation Accuracy:  0.902, Loss:  0.071\n",
      "Epoch   6 Batch  245/269 - Train Accuracy:  0.886, Validation Accuracy:  0.912, Loss:  0.082\n",
      "Epoch   6 Batch  250/269 - Train Accuracy:  0.907, Validation Accuracy:  0.901, Loss:  0.073\n",
      "Epoch   6 Batch  255/269 - Train Accuracy:  0.910, Validation Accuracy:  0.895, Loss:  0.070\n",
      "Epoch   6 Batch  260/269 - Train Accuracy:  0.901, Validation Accuracy:  0.905, Loss:  0.080\n",
      "Epoch   6 Batch  265/269 - Train Accuracy:  0.907, Validation Accuracy:  0.905, Loss:  0.072\n",
      "Epoch   7 Batch    0/269 - Train Accuracy:  0.922, Validation Accuracy:  0.901, Loss:  0.074\n",
      "Epoch   7 Batch    5/269 - Train Accuracy:  0.900, Validation Accuracy:  0.904, Loss:  0.071\n",
      "Epoch   7 Batch   10/269 - Train Accuracy:  0.905, Validation Accuracy:  0.905, Loss:  0.062\n",
      "Epoch   7 Batch   15/269 - Train Accuracy:  0.912, Validation Accuracy:  0.906, Loss:  0.058\n",
      "Epoch   7 Batch   20/269 - Train Accuracy:  0.913, Validation Accuracy:  0.915, Loss:  0.065\n",
      "Epoch   7 Batch   25/269 - Train Accuracy:  0.903, Validation Accuracy:  0.921, Loss:  0.072\n",
      "Epoch   7 Batch   30/269 - Train Accuracy:  0.909, Validation Accuracy:  0.913, Loss:  0.063\n",
      "Epoch   7 Batch   35/269 - Train Accuracy:  0.916, Validation Accuracy:  0.898, Loss:  0.078\n",
      "Epoch   7 Batch   40/269 - Train Accuracy:  0.906, Validation Accuracy:  0.903, Loss:  0.073\n",
      "Epoch   7 Batch   45/269 - Train Accuracy:  0.908, Validation Accuracy:  0.911, Loss:  0.067\n",
      "Epoch   7 Batch   50/269 - Train Accuracy:  0.884, Validation Accuracy:  0.909, Loss:  0.078\n",
      "Epoch   7 Batch   55/269 - Train Accuracy:  0.923, Validation Accuracy:  0.917, Loss:  0.065\n",
      "Epoch   7 Batch   60/269 - Train Accuracy:  0.917, Validation Accuracy:  0.913, Loss:  0.061\n",
      "Epoch   7 Batch   65/269 - Train Accuracy:  0.907, Validation Accuracy:  0.918, Loss:  0.065\n",
      "Epoch   7 Batch   70/269 - Train Accuracy:  0.905, Validation Accuracy:  0.908, Loss:  0.064\n",
      "Epoch   7 Batch   75/269 - Train Accuracy:  0.915, Validation Accuracy:  0.912, Loss:  0.066\n",
      "Epoch   7 Batch   80/269 - Train Accuracy:  0.910, Validation Accuracy:  0.911, Loss:  0.062\n",
      "Epoch   7 Batch   85/269 - Train Accuracy:  0.910, Validation Accuracy:  0.907, Loss:  0.062\n",
      "Epoch   7 Batch   90/269 - Train Accuracy:  0.896, Validation Accuracy:  0.888, Loss:  0.105\n",
      "Epoch   7 Batch   95/269 - Train Accuracy:  0.909, Validation Accuracy:  0.896, Loss:  0.069\n",
      "Epoch   7 Batch  100/269 - Train Accuracy:  0.931, Validation Accuracy:  0.909, Loss:  0.071\n",
      "Epoch   7 Batch  105/269 - Train Accuracy:  0.902, Validation Accuracy:  0.909, Loss:  0.068\n",
      "Epoch   7 Batch  110/269 - Train Accuracy:  0.895, Validation Accuracy:  0.889, Loss:  0.159\n",
      "Epoch   7 Batch  115/269 - Train Accuracy:  0.852, Validation Accuracy:  0.865, Loss:  0.247\n",
      "Epoch   7 Batch  120/269 - Train Accuracy:  0.790, Validation Accuracy:  0.812, Loss:  0.157\n",
      "Epoch   7 Batch  125/269 - Train Accuracy:  0.869, Validation Accuracy:  0.853, Loss:  0.140\n",
      "Epoch   7 Batch  130/269 - Train Accuracy:  0.873, Validation Accuracy:  0.874, Loss:  0.108\n",
      "Epoch   7 Batch  135/269 - Train Accuracy:  0.873, Validation Accuracy:  0.887, Loss:  0.096\n",
      "Epoch   7 Batch  140/269 - Train Accuracy:  0.888, Validation Accuracy:  0.895, Loss:  0.083\n",
      "Epoch   7 Batch  145/269 - Train Accuracy:  0.908, Validation Accuracy:  0.896, Loss:  0.072\n",
      "Epoch   7 Batch  150/269 - Train Accuracy:  0.897, Validation Accuracy:  0.907, Loss:  0.072\n",
      "Epoch   7 Batch  155/269 - Train Accuracy:  0.900, Validation Accuracy:  0.913, Loss:  0.064\n",
      "Epoch   7 Batch  160/269 - Train Accuracy:  0.902, Validation Accuracy:  0.909, Loss:  0.065\n",
      "Epoch   7 Batch  165/269 - Train Accuracy:  0.917, Validation Accuracy:  0.919, Loss:  0.061\n",
      "Epoch   7 Batch  170/269 - Train Accuracy:  0.915, Validation Accuracy:  0.913, Loss:  0.059\n",
      "Epoch   7 Batch  175/269 - Train Accuracy:  0.904, Validation Accuracy:  0.909, Loss:  0.071\n",
      "Epoch   7 Batch  180/269 - Train Accuracy:  0.919, Validation Accuracy:  0.908, Loss:  0.056\n",
      "Epoch   7 Batch  185/269 - Train Accuracy:  0.927, Validation Accuracy:  0.911, Loss:  0.059\n",
      "Epoch   7 Batch  190/269 - Train Accuracy:  0.918, Validation Accuracy:  0.929, Loss:  0.057\n",
      "Epoch   7 Batch  195/269 - Train Accuracy:  0.907, Validation Accuracy:  0.926, Loss:  0.057\n",
      "Epoch   7 Batch  200/269 - Train Accuracy:  0.919, Validation Accuracy:  0.920, Loss:  0.056\n",
      "Epoch   7 Batch  205/269 - Train Accuracy:  0.916, Validation Accuracy:  0.916, Loss:  0.058\n",
      "Epoch   7 Batch  210/269 - Train Accuracy:  0.912, Validation Accuracy:  0.922, Loss:  0.057\n",
      "Epoch   7 Batch  215/269 - Train Accuracy:  0.927, Validation Accuracy:  0.923, Loss:  0.055\n",
      "Epoch   7 Batch  220/269 - Train Accuracy:  0.907, Validation Accuracy:  0.920, Loss:  0.054\n",
      "Epoch   7 Batch  225/269 - Train Accuracy:  0.908, Validation Accuracy:  0.926, Loss:  0.053\n",
      "Epoch   7 Batch  230/269 - Train Accuracy:  0.916, Validation Accuracy:  0.924, Loss:  0.052\n",
      "Epoch   7 Batch  235/269 - Train Accuracy:  0.940, Validation Accuracy:  0.921, Loss:  0.046\n",
      "Epoch   7 Batch  240/269 - Train Accuracy:  0.923, Validation Accuracy:  0.923, Loss:  0.050\n",
      "Epoch   7 Batch  245/269 - Train Accuracy:  0.905, Validation Accuracy:  0.925, Loss:  0.056\n",
      "Epoch   7 Batch  250/269 - Train Accuracy:  0.927, Validation Accuracy:  0.925, Loss:  0.051\n",
      "Epoch   7 Batch  255/269 - Train Accuracy:  0.929, Validation Accuracy:  0.920, Loss:  0.050\n",
      "Epoch   7 Batch  260/269 - Train Accuracy:  0.918, Validation Accuracy:  0.926, Loss:  0.059\n",
      "Epoch   7 Batch  265/269 - Train Accuracy:  0.916, Validation Accuracy:  0.924, Loss:  0.053\n",
      "Epoch   8 Batch    0/269 - Train Accuracy:  0.928, Validation Accuracy:  0.917, Loss:  0.055\n",
      "Epoch   8 Batch    5/269 - Train Accuracy:  0.924, Validation Accuracy:  0.923, Loss:  0.051\n",
      "Epoch   8 Batch   10/269 - Train Accuracy:  0.927, Validation Accuracy:  0.927, Loss:  0.044\n",
      "Epoch   8 Batch   15/269 - Train Accuracy:  0.935, Validation Accuracy:  0.924, Loss:  0.041\n",
      "Epoch   8 Batch   20/269 - Train Accuracy:  0.921, Validation Accuracy:  0.924, Loss:  0.048\n",
      "Epoch   8 Batch   25/269 - Train Accuracy:  0.925, Validation Accuracy:  0.929, Loss:  0.052\n",
      "Epoch   8 Batch   30/269 - Train Accuracy:  0.929, Validation Accuracy:  0.924, Loss:  0.048\n",
      "Epoch   8 Batch   35/269 - Train Accuracy:  0.928, Validation Accuracy:  0.916, Loss:  0.062\n",
      "Epoch   8 Batch   40/269 - Train Accuracy:  0.923, Validation Accuracy:  0.923, Loss:  0.054\n",
      "Epoch   8 Batch   45/269 - Train Accuracy:  0.922, Validation Accuracy:  0.922, Loss:  0.050\n",
      "Epoch   8 Batch   50/269 - Train Accuracy:  0.907, Validation Accuracy:  0.927, Loss:  0.059\n",
      "Epoch   8 Batch   55/269 - Train Accuracy:  0.937, Validation Accuracy:  0.925, Loss:  0.050\n",
      "Epoch   8 Batch   60/269 - Train Accuracy:  0.926, Validation Accuracy:  0.930, Loss:  0.047\n",
      "Epoch   8 Batch   65/269 - Train Accuracy:  0.929, Validation Accuracy:  0.928, Loss:  0.049\n",
      "Epoch   8 Batch   70/269 - Train Accuracy:  0.926, Validation Accuracy:  0.920, Loss:  0.049\n",
      "Epoch   8 Batch   75/269 - Train Accuracy:  0.926, Validation Accuracy:  0.925, Loss:  0.051\n",
      "Epoch   8 Batch   80/269 - Train Accuracy:  0.916, Validation Accuracy:  0.930, Loss:  0.047\n",
      "Epoch   8 Batch   85/269 - Train Accuracy:  0.926, Validation Accuracy:  0.927, Loss:  0.047\n",
      "Epoch   8 Batch   90/269 - Train Accuracy:  0.923, Validation Accuracy:  0.921, Loss:  0.050\n",
      "Epoch   8 Batch   95/269 - Train Accuracy:  0.930, Validation Accuracy:  0.923, Loss:  0.044\n",
      "Epoch   8 Batch  100/269 - Train Accuracy:  0.927, Validation Accuracy:  0.928, Loss:  0.050\n",
      "Epoch   8 Batch  105/269 - Train Accuracy:  0.914, Validation Accuracy:  0.927, Loss:  0.048\n",
      "Epoch   8 Batch  110/269 - Train Accuracy:  0.930, Validation Accuracy:  0.924, Loss:  0.041\n",
      "Epoch   8 Batch  115/269 - Train Accuracy:  0.932, Validation Accuracy:  0.920, Loss:  0.050\n",
      "Epoch   8 Batch  120/269 - Train Accuracy:  0.925, Validation Accuracy:  0.931, Loss:  0.048\n",
      "Epoch   8 Batch  125/269 - Train Accuracy:  0.926, Validation Accuracy:  0.929, Loss:  0.045\n",
      "Epoch   8 Batch  130/269 - Train Accuracy:  0.926, Validation Accuracy:  0.928, Loss:  0.048\n",
      "Epoch   8 Batch  135/269 - Train Accuracy:  0.932, Validation Accuracy:  0.928, Loss:  0.044\n",
      "Epoch   8 Batch  140/269 - Train Accuracy:  0.918, Validation Accuracy:  0.915, Loss:  0.049\n",
      "Epoch   8 Batch  145/269 - Train Accuracy:  0.930, Validation Accuracy:  0.925, Loss:  0.042\n",
      "Epoch   8 Batch  150/269 - Train Accuracy:  0.929, Validation Accuracy:  0.925, Loss:  0.047\n",
      "Epoch   8 Batch  155/269 - Train Accuracy:  0.927, Validation Accuracy:  0.931, Loss:  0.043\n",
      "Epoch   8 Batch  160/269 - Train Accuracy:  0.932, Validation Accuracy:  0.924, Loss:  0.044\n",
      "Epoch   8 Batch  165/269 - Train Accuracy:  0.929, Validation Accuracy:  0.930, Loss:  0.042\n",
      "Epoch   8 Batch  170/269 - Train Accuracy:  0.926, Validation Accuracy:  0.934, Loss:  0.042\n",
      "Epoch   8 Batch  175/269 - Train Accuracy:  0.911, Validation Accuracy:  0.923, Loss:  0.055\n",
      "Epoch   8 Batch  180/269 - Train Accuracy:  0.937, Validation Accuracy:  0.931, Loss:  0.041\n",
      "Epoch   8 Batch  185/269 - Train Accuracy:  0.935, Validation Accuracy:  0.926, Loss:  0.044\n",
      "Epoch   8 Batch  190/269 - Train Accuracy:  0.928, Validation Accuracy:  0.928, Loss:  0.044\n",
      "Epoch   8 Batch  195/269 - Train Accuracy:  0.918, Validation Accuracy:  0.926, Loss:  0.042\n",
      "Epoch   8 Batch  200/269 - Train Accuracy:  0.930, Validation Accuracy:  0.917, Loss:  0.188\n",
      "Epoch   8 Batch  205/269 - Train Accuracy:  0.842, Validation Accuracy:  0.841, Loss:  0.159\n",
      "Epoch   8 Batch  210/269 - Train Accuracy:  0.864, Validation Accuracy:  0.887, Loss:  0.256\n",
      "Epoch   8 Batch  215/269 - Train Accuracy:  0.891, Validation Accuracy:  0.874, Loss:  0.166\n",
      "Epoch   8 Batch  220/269 - Train Accuracy:  0.883, Validation Accuracy:  0.879, Loss:  0.124\n",
      "Epoch   8 Batch  225/269 - Train Accuracy:  0.883, Validation Accuracy:  0.880, Loss:  0.096\n",
      "Epoch   8 Batch  230/269 - Train Accuracy:  0.888, Validation Accuracy:  0.896, Loss:  0.095\n",
      "Epoch   8 Batch  235/269 - Train Accuracy:  0.923, Validation Accuracy:  0.902, Loss:  0.068\n",
      "Epoch   8 Batch  240/269 - Train Accuracy:  0.927, Validation Accuracy:  0.917, Loss:  0.061\n",
      "Epoch   8 Batch  245/269 - Train Accuracy:  0.899, Validation Accuracy:  0.914, Loss:  0.063\n",
      "Epoch   8 Batch  250/269 - Train Accuracy:  0.925, Validation Accuracy:  0.912, Loss:  0.051\n",
      "Epoch   8 Batch  255/269 - Train Accuracy:  0.930, Validation Accuracy:  0.925, Loss:  0.052\n",
      "Epoch   8 Batch  260/269 - Train Accuracy:  0.928, Validation Accuracy:  0.938, Loss:  0.054\n",
      "Epoch   8 Batch  265/269 - Train Accuracy:  0.914, Validation Accuracy:  0.908, Loss:  0.051\n",
      "Epoch   9 Batch    0/269 - Train Accuracy:  0.869, Validation Accuracy:  0.871, Loss:  0.051\n",
      "Epoch   9 Batch    5/269 - Train Accuracy:  0.899, Validation Accuracy:  0.907, Loss:  0.057\n",
      "Epoch   9 Batch   10/269 - Train Accuracy:  0.910, Validation Accuracy:  0.909, Loss:  0.049\n",
      "Epoch   9 Batch   15/269 - Train Accuracy:  0.918, Validation Accuracy:  0.897, Loss:  0.042\n",
      "Epoch   9 Batch   20/269 - Train Accuracy:  0.923, Validation Accuracy:  0.921, Loss:  0.047\n",
      "Epoch   9 Batch   25/269 - Train Accuracy:  0.938, Validation Accuracy:  0.934, Loss:  0.046\n",
      "Epoch   9 Batch   30/269 - Train Accuracy:  0.933, Validation Accuracy:  0.927, Loss:  0.043\n",
      "Epoch   9 Batch   35/269 - Train Accuracy:  0.930, Validation Accuracy:  0.928, Loss:  0.056\n",
      "Epoch   9 Batch   40/269 - Train Accuracy:  0.921, Validation Accuracy:  0.929, Loss:  0.047\n",
      "Epoch   9 Batch   45/269 - Train Accuracy:  0.921, Validation Accuracy:  0.926, Loss:  0.042\n",
      "Epoch   9 Batch   50/269 - Train Accuracy:  0.916, Validation Accuracy:  0.936, Loss:  0.051\n",
      "Epoch   9 Batch   55/269 - Train Accuracy:  0.943, Validation Accuracy:  0.932, Loss:  0.042\n",
      "Epoch   9 Batch   60/269 - Train Accuracy:  0.935, Validation Accuracy:  0.936, Loss:  0.039\n",
      "Epoch   9 Batch   65/269 - Train Accuracy:  0.938, Validation Accuracy:  0.931, Loss:  0.040\n",
      "Epoch   9 Batch   70/269 - Train Accuracy:  0.938, Validation Accuracy:  0.923, Loss:  0.040\n",
      "Epoch   9 Batch   75/269 - Train Accuracy:  0.938, Validation Accuracy:  0.931, Loss:  0.042\n",
      "Epoch   9 Batch   80/269 - Train Accuracy:  0.927, Validation Accuracy:  0.930, Loss:  0.039\n",
      "Epoch   9 Batch   85/269 - Train Accuracy:  0.928, Validation Accuracy:  0.929, Loss:  0.038\n",
      "Epoch   9 Batch   90/269 - Train Accuracy:  0.933, Validation Accuracy:  0.929, Loss:  0.041\n",
      "Epoch   9 Batch   95/269 - Train Accuracy:  0.937, Validation Accuracy:  0.932, Loss:  0.035\n",
      "Epoch   9 Batch  100/269 - Train Accuracy:  0.938, Validation Accuracy:  0.928, Loss:  0.042\n",
      "Epoch   9 Batch  105/269 - Train Accuracy:  0.924, Validation Accuracy:  0.936, Loss:  0.038\n",
      "Epoch   9 Batch  110/269 - Train Accuracy:  0.937, Validation Accuracy:  0.932, Loss:  0.033\n",
      "Epoch   9 Batch  115/269 - Train Accuracy:  0.935, Validation Accuracy:  0.927, Loss:  0.041\n",
      "Epoch   9 Batch  120/269 - Train Accuracy:  0.927, Validation Accuracy:  0.937, Loss:  0.041\n",
      "Epoch   9 Batch  125/269 - Train Accuracy:  0.936, Validation Accuracy:  0.930, Loss:  0.038\n",
      "Epoch   9 Batch  130/269 - Train Accuracy:  0.929, Validation Accuracy:  0.927, Loss:  0.040\n",
      "Epoch   9 Batch  135/269 - Train Accuracy:  0.939, Validation Accuracy:  0.928, Loss:  0.036\n",
      "Epoch   9 Batch  140/269 - Train Accuracy:  0.931, Validation Accuracy:  0.929, Loss:  0.043\n",
      "Epoch   9 Batch  145/269 - Train Accuracy:  0.946, Validation Accuracy:  0.934, Loss:  0.035\n",
      "Epoch   9 Batch  150/269 - Train Accuracy:  0.939, Validation Accuracy:  0.937, Loss:  0.039\n",
      "Epoch   9 Batch  155/269 - Train Accuracy:  0.931, Validation Accuracy:  0.933, Loss:  0.035\n",
      "Epoch   9 Batch  160/269 - Train Accuracy:  0.936, Validation Accuracy:  0.927, Loss:  0.036\n",
      "Epoch   9 Batch  165/269 - Train Accuracy:  0.944, Validation Accuracy:  0.932, Loss:  0.035\n",
      "Epoch   9 Batch  170/269 - Train Accuracy:  0.936, Validation Accuracy:  0.943, Loss:  0.035\n",
      "Epoch   9 Batch  175/269 - Train Accuracy:  0.920, Validation Accuracy:  0.936, Loss:  0.046\n",
      "Epoch   9 Batch  180/269 - Train Accuracy:  0.946, Validation Accuracy:  0.940, Loss:  0.033\n",
      "Epoch   9 Batch  185/269 - Train Accuracy:  0.942, Validation Accuracy:  0.935, Loss:  0.036\n",
      "Epoch   9 Batch  190/269 - Train Accuracy:  0.938, Validation Accuracy:  0.937, Loss:  0.035\n",
      "Epoch   9 Batch  195/269 - Train Accuracy:  0.931, Validation Accuracy:  0.939, Loss:  0.032\n",
      "Epoch   9 Batch  200/269 - Train Accuracy:  0.949, Validation Accuracy:  0.943, Loss:  0.031\n",
      "Epoch   9 Batch  205/269 - Train Accuracy:  0.942, Validation Accuracy:  0.933, Loss:  0.035\n",
      "Epoch   9 Batch  210/269 - Train Accuracy:  0.940, Validation Accuracy:  0.942, Loss:  0.036\n",
      "Epoch   9 Batch  215/269 - Train Accuracy:  0.939, Validation Accuracy:  0.939, Loss:  0.034\n",
      "Epoch   9 Batch  220/269 - Train Accuracy:  0.936, Validation Accuracy:  0.940, Loss:  0.032\n",
      "Epoch   9 Batch  225/269 - Train Accuracy:  0.935, Validation Accuracy:  0.937, Loss:  0.033\n",
      "Epoch   9 Batch  230/269 - Train Accuracy:  0.945, Validation Accuracy:  0.938, Loss:  0.032\n",
      "Epoch   9 Batch  235/269 - Train Accuracy:  0.956, Validation Accuracy:  0.935, Loss:  0.027\n",
      "Epoch   9 Batch  240/269 - Train Accuracy:  0.948, Validation Accuracy:  0.942, Loss:  0.033\n",
      "Epoch   9 Batch  245/269 - Train Accuracy:  0.928, Validation Accuracy:  0.941, Loss:  0.036\n",
      "Epoch   9 Batch  250/269 - Train Accuracy:  0.952, Validation Accuracy:  0.933, Loss:  0.033\n",
      "Epoch   9 Batch  255/269 - Train Accuracy:  0.950, Validation Accuracy:  0.939, Loss:  0.032\n",
      "Epoch   9 Batch  260/269 - Train Accuracy:  0.943, Validation Accuracy:  0.941, Loss:  0.037\n",
      "Epoch   9 Batch  265/269 - Train Accuracy:  0.936, Validation Accuracy:  0.944, Loss:  0.035\n",
      "Model Trained and Saved\n"
     ]
    }
   ],
   "source": [
    "\"\"\"\n",
    "DON'T MODIFY ANYTHING IN THIS CELL\n",
    "\"\"\"\n",
    "import time\n",
    "import numpy as np\n",
    "def get_accuracy(target, logits):\n",
    "    \"\"\"\n",
    "    Calculate accuracy\n",
    "    \"\"\"\n",
    "    max_seq = max(target.shape[1], logits.shape[1])\n",
    "    if max_seq - target.shape[1]:\n",
    "        target = np.pad(\n",
    "            target,\n",
    "            [(0,0),(0,max_seq - target.shape[1])],\n",
    "            'constant')\n",
    "    if max_seq - logits.shape[1]:\n",
    "        logits = np.pad(\n",
    "            logits,\n",
    "            [(0,0),(0,max_seq - logits.shape[1]), (0,0)],\n",
    "            'constant')\n",
    "\n",
    "    return np.mean(np.equal(target, np.argmax(logits, 2)))\n",
    "\n",
    "train_source = source_int_text[batch_size:]\n",
    "train_target = target_int_text[batch_size:]\n",
    "\n",
    "valid_source = helper.pad_sentence_batch(source_int_text[:batch_size])\n",
    "valid_target = helper.pad_sentence_batch(target_int_text[:batch_size])\n",
    "\n",
    "with tf.Session(graph=train_graph) as sess:\n",
    "    sess.run(tf.global_variables_initializer())\n",
    "\n",
    "    for epoch_i in range(epochs):\n",
    "        for batch_i, (source_batch, target_batch) in enumerate(\n",
    "                helper.batch_data(train_source, train_target, batch_size)):\n",
    "            start_time = time.time()\n",
    "            \n",
    "            _, loss = sess.run(\n",
    "                [train_op, cost],\n",
    "                {input_data: source_batch,\n",
    "                 targets: target_batch,\n",
    "                 lr: learning_rate,\n",
    "                 sequence_length: target_batch.shape[1],\n",
    "                 keep_prob: keep_probability})\n",
    "            \n",
    "            batch_train_logits = sess.run(\n",
    "                inference_logits,\n",
    "                {input_data: source_batch, keep_prob: 1.0})\n",
    "            batch_valid_logits = sess.run(\n",
    "                inference_logits,\n",
    "                {input_data: valid_source, keep_prob: 1.0})\n",
    "                \n",
    "            train_acc = get_accuracy(target_batch, batch_train_logits)\n",
    "            valid_acc = get_accuracy(np.array(valid_target), batch_valid_logits)\n",
    "            end_time = time.time()\n",
    "            if batch_i%5==0:\n",
    "                print('Epoch {:>3} Batch {:>4}/{} - Train Accuracy: {:>6.3f}, Validation Accuracy: {:>6.3f}, Loss: {:>6.3f}'\n",
    "                      .format(epoch_i, batch_i, len(source_int_text) // batch_size, train_acc, valid_acc, loss))\n",
    "\n",
    "    # Save Model\n",
    "    saver = tf.train.Saver()\n",
    "    saver.save(sess, save_path)\n",
    "    print('Model Trained and Saved')"
   ]
  },
  {
   "cell_type": "markdown",
   "metadata": {
    "deletable": true,
    "editable": true
   },
   "source": [
    "### Save Parameters\n",
    "Save the `batch_size` and `save_path` parameters for inference."
   ]
  },
  {
   "cell_type": "code",
   "execution_count": 20,
   "metadata": {
    "collapsed": false,
    "deletable": true,
    "editable": true
   },
   "outputs": [],
   "source": [
    "\"\"\"\n",
    "DON'T MODIFY ANYTHING IN THIS CELL\n",
    "\"\"\"\n",
    "# Save parameters for checkpoint\n",
    "helper.save_params(save_path)"
   ]
  },
  {
   "cell_type": "markdown",
   "metadata": {
    "deletable": true,
    "editable": true
   },
   "source": [
    "# Checkpoint"
   ]
  },
  {
   "cell_type": "code",
   "execution_count": 21,
   "metadata": {
    "collapsed": false,
    "deletable": true,
    "editable": true
   },
   "outputs": [],
   "source": [
    "\"\"\"\n",
    "DON'T MODIFY ANYTHING IN THIS CELL\n",
    "\"\"\"\n",
    "import tensorflow as tf\n",
    "import numpy as np\n",
    "import helper\n",
    "import problem_unittests as tests\n",
    "\n",
    "_, (source_vocab_to_int, target_vocab_to_int), (source_int_to_vocab, target_int_to_vocab) = helper.load_preprocess()\n",
    "load_path = helper.load_params()"
   ]
  },
  {
   "cell_type": "markdown",
   "metadata": {
    "deletable": true,
    "editable": true
   },
   "source": [
    "## Sentence to Sequence\n",
    "To feed a sentence into the model for translation, you first need to preprocess it.  Implement the function `sentence_to_seq()` to preprocess new sentences.\n",
    "\n",
    "- Convert the sentence to lowercase\n",
    "- Convert words into ids using `vocab_to_int`\n",
    "- Convert words not in the vocabulary, to the `<UNK>` word id."
   ]
  },
  {
   "cell_type": "code",
   "execution_count": 22,
   "metadata": {
    "collapsed": false,
    "deletable": true,
    "editable": true
   },
   "outputs": [
    {
     "name": "stdout",
     "output_type": "stream",
     "text": [
      "Tests Passed\n"
     ]
    }
   ],
   "source": [
    "def sentence_to_seq(sentence, vocab_to_int):\n",
    "    \"\"\"\n",
    "    Convert a sentence to a sequence of ids\n",
    "    :param sentence: String\n",
    "    :param vocab_to_int: Dictionary to go from the words to an id\n",
    "    :return: List of word ids\n",
    "    \"\"\"\n",
    "    # TODO: Implement Function\n",
    "    sentence=sentence.lower()\n",
    "    converted = [vocab_to_int.get(word, vocab_to_int['<UNK>']) for word in sentence.split(' ')]\n",
    "    return converted\n",
    "\n",
    "\n",
    "\"\"\"\n",
    "DON'T MODIFY ANYTHING IN THIS CELL THAT IS BELOW THIS LINE\n",
    "\"\"\"\n",
    "tests.test_sentence_to_seq(sentence_to_seq)"
   ]
  },
  {
   "cell_type": "markdown",
   "metadata": {
    "deletable": true,
    "editable": true
   },
   "source": [
    "## Translate\n",
    "This will translate `translate_sentence` from English to French."
   ]
  },
  {
   "cell_type": "code",
   "execution_count": 23,
   "metadata": {
    "collapsed": false,
    "deletable": true,
    "editable": true
   },
   "outputs": [
    {
     "name": "stdout",
     "output_type": "stream",
     "text": [
      "Input\n",
      "  Word Ids:      [35, 151, 220, 124, 185, 141, 110]\n",
      "  English Words: ['he', 'saw', 'a', 'old', 'yellow', 'truck', '.']\n",
      "\n",
      "Prediction\n",
      "  Word Ids:      [99, 254, 236, 121, 268, 267, 296, 1]\n",
      "  French Words: ['il', 'conduit', 'ce', 'vieux', 'camion', 'rouge', '.', '<EOS>']\n"
     ]
    }
   ],
   "source": [
    "translate_sentence = 'he saw a old yellow truck .'\n",
    "\n",
    "\n",
    "\"\"\"\n",
    "DON'T MODIFY ANYTHING IN THIS CELL\n",
    "\"\"\"\n",
    "translate_sentence = sentence_to_seq(translate_sentence, source_vocab_to_int)\n",
    "\n",
    "loaded_graph = tf.Graph()\n",
    "with tf.Session(graph=loaded_graph) as sess:\n",
    "    # Load saved model\n",
    "    loader = tf.train.import_meta_graph(load_path + '.meta')\n",
    "    loader.restore(sess, load_path)\n",
    "\n",
    "    input_data = loaded_graph.get_tensor_by_name('input:0')\n",
    "    logits = loaded_graph.get_tensor_by_name('logits:0')\n",
    "    keep_prob = loaded_graph.get_tensor_by_name('keep_prob:0')\n",
    "\n",
    "    translate_logits = sess.run(logits, {input_data: [translate_sentence], keep_prob: 1.0})[0]\n",
    "\n",
    "print('Input')\n",
    "print('  Word Ids:      {}'.format([i for i in translate_sentence]))\n",
    "print('  English Words: {}'.format([source_int_to_vocab[i] for i in translate_sentence]))\n",
    "\n",
    "print('\\nPrediction')\n",
    "print('  Word Ids:      {}'.format([i for i in np.argmax(translate_logits, 1)]))\n",
    "print('  French Words: {}'.format([target_int_to_vocab[i] for i in np.argmax(translate_logits, 1)]))"
   ]
  },
  {
   "cell_type": "markdown",
   "metadata": {
    "deletable": true,
    "editable": true
   },
   "source": [
    "## Imperfect Translation\n",
    "You might notice that some sentences translate better than others.  Since the dataset you're using only has a vocabulary of 227 English words of the thousands that you use, you're only going to see good results using these words.  Additionally, the translations in this data set were made by Google translate, so the translations themselves aren't particularly good.  (We apologize to the French speakers out there!) Thankfully, for this project, you don't need a perfect translation. However, if you want to create a better translation model, you'll need better data.\n",
    "\n",
    "You can train on the [WMT10 French-English corpus](http://www.statmt.org/wmt10/training-giga-fren.tar).  This dataset has more vocabulary and richer in topics discussed.  However, this will take you days to train, so make sure you've a GPU and the neural network is performing well on dataset we provided.  Just make sure you play with the WMT10 corpus after you've submitted this project.\n",
    "## Submitting This Project\n",
    "When submitting this project, make sure to run all the cells before saving the notebook. Save the notebook file as \"dlnd_language_translation.ipynb\" and save it as a HTML file under \"File\" -> \"Download as\". Include the \"helper.py\" and \"problem_unittests.py\" files in your submission."
   ]
  }
 ],
 "metadata": {
  "kernelspec": {
   "display_name": "Python 3",
   "language": "python",
   "name": "python3"
  },
  "language_info": {
   "codemirror_mode": {
    "name": "ipython",
    "version": 3
   },
   "file_extension": ".py",
   "mimetype": "text/x-python",
   "name": "python",
   "nbconvert_exporter": "python",
   "pygments_lexer": "ipython3",
   "version": "3.5.2"
  },
  "widgets": {
   "state": {},
   "version": "1.1.2"
  }
 },
 "nbformat": 4,
 "nbformat_minor": 0
}
